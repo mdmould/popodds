{
 "cells": [
  {
   "cell_type": "code",
   "execution_count": 1,
   "id": "147f12fa-83c0-4883-99e3-e9efa975ca4f",
   "metadata": {},
   "outputs": [],
   "source": [
    "import numpy as np\n",
    "import matplotlib.pyplot as plt\n",
    "cmap = plt.get_cmap('tab10')"
   ]
  },
  {
   "cell_type": "code",
   "execution_count": 2,
   "id": "6957e9b5-ecba-4437-922e-2da3dc033d42",
   "metadata": {},
   "outputs": [],
   "source": [
    "np.random.seed(42)"
   ]
  },
  {
   "cell_type": "markdown",
   "id": "ca9a0baa-7dcd-4e97-b12a-31c560899ca2",
   "metadata": {},
   "source": [
    "## Mock simulation and posterior"
   ]
  },
  {
   "cell_type": "code",
   "execution_count": 3,
   "id": "a52e0d12-0135-49a7-80ee-1d667ddad2a8",
   "metadata": {},
   "outputs": [],
   "source": [
    "# Power law PDF.\n",
    "def powerlaw(x, index, minimum, maximum):\n",
    "    \n",
    "    shape = x**index\n",
    "    norm = (index+1) / (maximum**(index+1) - minimum**(index+1))\n",
    "    cut = (x >= minimum) * (x <= maximum)\n",
    "    \n",
    "    return shape * norm * cut\n",
    "\n",
    "# Sample from a power law PDF.\n",
    "def sample_powerlaw(n_samples, index, minimum, maximum):\n",
    "    \n",
    "    return (\n",
    "        np.random.rand(n_samples) * (maximum**(index+1) - minimum**(index+1))\n",
    "        + minimum**(index+1)\n",
    "        )**(1/(index+1))"
   ]
  },
  {
   "cell_type": "code",
   "execution_count": 4,
   "id": "269b4870-e2e6-49b9-abbb-bffcc0d4506f",
   "metadata": {},
   "outputs": [],
   "source": [
    "# Sample a fiducial population of masses.\n",
    "\n",
    "index = -2.3\n",
    "minimum = 5\n",
    "maximum = 50\n",
    "n_sim = 10000 # Number of simulated mergers.\n",
    "\n",
    "m_sim = sample_powerlaw(n_sim, index, minimum, maximum)"
   ]
  },
  {
   "cell_type": "code",
   "execution_count": 5,
   "id": "5a216905-09e5-4e23-8ffc-88f83e156400",
   "metadata": {},
   "outputs": [],
   "source": [
    "# Create mock parameter estimation posterior samples.\n",
    "\n",
    "mean = maximum\n",
    "std = 5\n",
    "n_pe = 5000\n",
    "\n",
    "m_pe = np.random.normal(mean, std, n_pe)\n",
    "\n",
    "pe_prior = lambda m: (m >= m_pe.min()) * (m <= m_pe.max()) / (m_pe.max() - m_pe.min())"
   ]
  },
  {
   "cell_type": "code",
   "execution_count": 6,
   "id": "c6ecea7c-089a-42d3-b0d5-f6630d20b3c4",
   "metadata": {},
   "outputs": [],
   "source": [
    "def plot_hists(pe, *sims):\n",
    "    \n",
    "    lo = min(pe.min(), min([sim.min() for sim in sims]))\n",
    "    hi = max(pe.max(), max([sim.max() for sim in sims]))\n",
    "    bins = np.linspace(lo, hi, 100)\n",
    "    \n",
    "    for i, m in enumerate([pe, *sims]):\n",
    "        if i == 0:\n",
    "            label = 'Event'\n",
    "        else:\n",
    "            label = f'Simulation {i}'\n",
    "            \n",
    "        plt.hist(\n",
    "            m, density=True, bins=bins, histtype='step', color=cmap(i), label=label,\n",
    "            )\n",
    "        \n",
    "        for cred in np.quantile(m, [.05, .95]):\n",
    "            plt.axvline(cred, ls='--', c=cmap(i))\n",
    "            \n",
    "    plt.legend()\n",
    "    plt.yscale('log')"
   ]
  },
  {
   "cell_type": "code",
   "execution_count": 7,
   "id": "4385ac80-beb0-401b-b528-9a42f8c84a99",
   "metadata": {},
   "outputs": [
    {
     "data": {
      "image/png": "[encoded data removed]",
      "text/plain": [
       "<Figure size 432x288 with 1 Axes>"
      ]
     },
     "metadata": {
      "needs_background": "light"
     },
     "output_type": "display_data"
    }
   ],
   "source": [
    "plot_hists(m_pe, m_sim)"
   ]
  },
  {
   "cell_type": "markdown",
   "id": "6a627d33-2ef4-44e3-a2e4-cc76f6a714fa",
   "metadata": {},
   "source": [
    "## Model comparison to PE prior"
   ]
  },
  {
   "cell_type": "code",
   "execution_count": 8,
   "id": "2461bfa7-9773-4b1a-a6a1-5c41f47ad96e",
   "metadata": {},
   "outputs": [],
   "source": [
    "from popodds import log_odds, ModelComparison"
   ]
  },
  {
   "cell_type": "code",
   "execution_count": 9,
   "id": "afae56cf-7773-41e1-99ba-9ff1556a0c70",
   "metadata": {},
   "outputs": [
    {
     "data": {
      "text/plain": [
       "-1.568084126731545"
      ]
     },
     "execution_count": 9,
     "metadata": {},
     "output_type": "execute_result"
    }
   ],
   "source": [
    "log_odds(m_sim[None, :], m_pe[None, :], pe_prior)"
   ]
  },
  {
   "cell_type": "code",
   "execution_count": 17,
   "id": "56e261fb-3e54-46c1-9e5c-bb2fd217e85a",
   "metadata": {},
   "outputs": [
    {
     "data": {
      "text/plain": [
       "-1.568084126731545"
      ]
     },
     "execution_count": 17,
     "metadata": {},
     "output_type": "execute_result"
    }
   ],
   "source": [
    "ModelComparison(m_sim[None, :], m_pe[None, :], pe_prior)()"
   ]
  },
  {
   "cell_type": "markdown",
   "id": "1eb4b42e-bb70-4311-bb2c-c9441917fc96",
   "metadata": {},
   "source": [
    "## Comparison between two simulations"
   ]
  },
  {
   "cell_type": "code",
   "execution_count": 10,
   "id": "e5b82e0a-2479-499e-b931-95dff9470148",
   "metadata": {},
   "outputs": [],
   "source": [
    "# Sample two mass populations\n",
    "\n",
    "n_sim_A = 10000\n",
    "index_A = -2.3\n",
    "minimum_A = 5\n",
    "maximum_A = 50\n",
    "\n",
    "m_A = sample_powerlaw(n_sim_A, index_A, minimum_A, maximum_A)\n",
    "\n",
    "n_sim_B = 12000\n",
    "index_B = 0\n",
    "minimum_B = 5\n",
    "maximum_B = 100\n",
    "\n",
    "m_B = sample_powerlaw(n_sim_B, index_B, minimum_B, maximum_B)"
   ]
  },
  {
   "cell_type": "code",
   "execution_count": 11,
   "id": "5434470f-ad17-4bd0-98c4-1aba7f6bae2e",
   "metadata": {},
   "outputs": [],
   "source": [
    "# Create mock parameter estimation posterior samples.\n",
    "\n",
    "mean = 50\n",
    "std = 5\n",
    "n_pe = 5000\n",
    "\n",
    "m_pe = np.random.normal(mean, std, n_pe)\n",
    "\n",
    "pe_prior = lambda m: (m >= m_pe.min()) * (m <= m_pe.max()) / (m_pe.max() - m_pe.min())"
   ]
  },
  {
   "cell_type": "code",
   "execution_count": 12,
   "id": "96ed88aa-4741-4451-9aec-5e24c02f805b",
   "metadata": {},
   "outputs": [
    {
     "data": {
      "image/png": "[encoded data removed]",
      "text/plain": [
       "<Figure size 432x288 with 1 Axes>"
      ]
     },
     "metadata": {
      "needs_background": "light"
     },
     "output_type": "display_data"
    }
   ],
   "source": [
    "plot_hists(m_pe, m_A, m_B)"
   ]
  },
  {
   "cell_type": "code",
   "execution_count": 13,
   "id": "f608a8a5-ba72-42f4-992b-fd52101009da",
   "metadata": {},
   "outputs": [
    {
     "name": "stdout",
     "output_type": "stream",
     "text": [
      "-1.4020023772751524\n",
      "-0.3767186083034354\n",
      "-1.025283768971717\n"
     ]
    }
   ],
   "source": [
    "log_odds_A = log_odds(m_A, m_pe, pe_prior)\n",
    "log_odds_B = log_odds(m_B, m_pe, pe_prior)\n",
    "\n",
    "log_odds_AB = log_odds_A - log_odds_B\n",
    "\n",
    "print(log_odds_A)\n",
    "print(log_odds_B)\n",
    "print(log_odds_AB)"
   ]
  },
  {
   "cell_type": "code",
   "execution_count": null,
   "id": "932b8ff7-fb1c-4d0c-b35a-e827c75035a3",
   "metadata": {},
   "outputs": [],
   "source": []
  }
 ],
 "metadata": {
  "kernelspec": {
   "display_name": "popodds",
   "language": "python",
   "name": "popodds"
  },
  "language_info": {
   "codemirror_mode": {
    "name": "ipython",
    "version": 3
   },
   "file_extension": ".py",
   "mimetype": "text/x-python",
   "name": "python",
   "nbconvert_exporter": "python",
   "pygments_lexer": "ipython3",
   "version": "3.9.13"
  }
 },
 "nbformat": 4,
 "nbformat_minor": 5
}
