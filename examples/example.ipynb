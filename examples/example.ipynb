{
 "cells": [
  {
   "cell_type": "code",
   "execution_count": 1,
   "id": "147f12fa-83c0-4883-99e3-e9efa975ca4f",
   "metadata": {},
   "outputs": [],
   "source": [
    "import numpy as np\n",
    "import matplotlib.pyplot as plt\n",
    "cmap = plt.get_cmap('tab10')\n",
    "import time\n",
    "\n",
    "from popodds import log_odds, ModelComparison, KDE"
   ]
  },
  {
   "cell_type": "code",
   "execution_count": 2,
   "id": "6957e9b5-ecba-4437-922e-2da3dc033d42",
   "metadata": {},
   "outputs": [],
   "source": [
    "np.random.seed(42)"
   ]
  },
  {
   "cell_type": "markdown",
   "id": "ca9a0baa-7dcd-4e97-b12a-31c560899ca2",
   "metadata": {},
   "source": [
    "## Mock simulation and posterior"
   ]
  },
  {
   "cell_type": "code",
   "execution_count": 3,
   "id": "a52e0d12-0135-49a7-80ee-1d667ddad2a8",
   "metadata": {},
   "outputs": [],
   "source": [
    "# Power law log PDF\n",
    "def log_powerlaw(x, index, minimum, maximum):\n",
    "    \n",
    "    log_shape = index * np.log(x)\n",
    "    log_norm = np.log(-index-1) - np.log(-maximum**(index+1) + minimum**(index+1))\n",
    "    cut = (minimum <= x) * (x <= maximum)\n",
    "    \n",
    "    return np.where(cut, log_shape + log_norm, -np.inf)\n",
    "    \n",
    "# Sample from a power law PDF\n",
    "def sample_powerlaw(n_samples, index, minimum, maximum):\n",
    "    \n",
    "    return (\n",
    "        np.random.rand(n_samples) * (maximum**(index+1) - minimum**(index+1))\n",
    "        + minimum**(index+1)\n",
    "        )**(1 / (index+1))"
   ]
  },
  {
   "cell_type": "code",
   "execution_count": 4,
   "id": "269b4870-e2e6-49b9-abbb-bffcc0d4506f",
   "metadata": {},
   "outputs": [],
   "source": [
    "# Make a fiducial population\n",
    "index = -1.2\n",
    "model_min = 1\n",
    "model_max = 100\n",
    "\n",
    "# Model samples\n",
    "n_model = 10_000\n",
    "model_samples = sample_powerlaw(n_model, index, model_min, model_max)\n",
    "\n",
    "# Model evaluation\n",
    "model_log_pdf = lambda x: log_powerlaw(x, index, model_min, model_max)"
   ]
  },
  {
   "cell_type": "code",
   "execution_count": 5,
   "id": "5a216905-09e5-4e23-8ffc-88f83e156400",
   "metadata": {},
   "outputs": [],
   "source": [
    "# Mock parameter estimation with flat prior and Gaussian posterior\n",
    "prior_min = 0\n",
    "prior_max = 100\n",
    "posterior_mean = 50\n",
    "posterior_std = 5\n",
    "\n",
    "# Posterior samples\n",
    "n_posterior = 5_000\n",
    "posterior_samples = np.random.normal(posterior_mean, posterior_std, n_posterior)\n",
    "\n",
    "# Prior samples\n",
    "n_prior = 5_000\n",
    "prior_samples = np.random.uniform(prior_min, prior_max, n_prior)\n",
    "\n",
    "# Assume a flat prior\n",
    "prior_log_pdf = lambda x: np.where(\n",
    "    (prior_min < x) * (x < prior_max), -np.log(prior_max - prior_min), -np.inf,\n",
    "    )"
   ]
  },
  {
   "cell_type": "code",
   "execution_count": 6,
   "id": "c925e61e-8bb3-460c-a645-16ae18133acd",
   "metadata": {},
   "outputs": [
    {
     "data": {
      "image/png": "[encoded data removed]",
      "text/plain": [
       "<Figure size 432x288 with 1 Axes>"
      ]
     },
     "metadata": {
      "needs_background": "light"
     },
     "output_type": "display_data"
    }
   ],
   "source": [
    "bins = np.linspace(min(model_min, prior_min), max(model_max, prior_max), 50)\n",
    "\n",
    "for samples in (model_samples, prior_samples, posterior_samples):\n",
    "    plt.hist(samples, bins=bins, density=True, histtype='step')\n",
    "\n",
    "plt.semilogy()\n",
    "plt.ylim(1e-4, .2);"
   ]
  },
  {
   "cell_type": "markdown",
   "id": "6a627d33-2ef4-44e3-a2e4-cc76f6a714fa",
   "metadata": {},
   "source": [
    "## Bayes factor between new and original prior"
   ]
  },
  {
   "cell_type": "code",
   "execution_count": 7,
   "id": "ab2010ea-4f04-4432-98f1-320eed996969",
   "metadata": {},
   "outputs": [],
   "source": [
    "# The ModelComparison class constructs density estimates on the model samples\n",
    "# The model and/or prior can also be predefined callables for the log PDFs\n",
    "\n",
    "mc = ModelComparison(model_samples, prior_log_pdf, posterior_samples)"
   ]
  },
  {
   "cell_type": "code",
   "execution_count": 8,
   "id": "152ca992-1e6f-4407-b736-c78a0d8b5c4e",
   "metadata": {},
   "outputs": [
    {
     "name": "stdout",
     "output_type": "stream",
     "text": [
      "0.28849580616136367\n",
      "2.1506776809692383\n"
     ]
    }
   ],
   "source": [
    "# Evaluate the Bayes factor\n",
    "\n",
    "t0 = time.time()\n",
    "print(mc.bayes_factor())\n",
    "print(time.time() - t0)"
   ]
  },
  {
   "cell_type": "code",
   "execution_count": 9,
   "id": "7bf6146d-eaef-4ae5-98d6-a1171e3b5249",
   "metadata": {},
   "outputs": [
    {
     "name": "stdout",
     "output_type": "stream",
     "text": [
      "0.28849580616136367\n",
      "0.0002148151397705078\n"
     ]
    }
   ],
   "source": [
    "# Value is cached after first computation\n",
    "# This is useful if the model and/or prior is given as samples for KDEs,\n",
    "# which are slow\n",
    "\n",
    "t0 = time.time()\n",
    "print(mc.bayes_factor())\n",
    "print(time.time() - t0)"
   ]
  },
  {
   "cell_type": "code",
   "execution_count": 10,
   "id": "f60752ac-bffb-4635-abd0-99cba21166df",
   "metadata": {},
   "outputs": [
    {
     "name": "stdout",
     "output_type": "stream",
     "text": [
      "-1.2430747298420206\n",
      "-1.2430747298420206\n"
     ]
    }
   ],
   "source": [
    "# We can also return the log Bayes factor (also cached)\n",
    "print(mc.log_bayes_factor())\n",
    "\n",
    "# Equivalently:\n",
    "print(mc())"
   ]
  },
  {
   "cell_type": "code",
   "execution_count": 11,
   "id": "e4547152-65f6-4b97-b975-785839090a4d",
   "metadata": {},
   "outputs": [
    {
     "name": "stdout",
     "output_type": "stream",
     "text": [
      "-1.2430747298420206\n",
      "-1.1958309006417638\n",
      "-1.261155084623164\n",
      "-1.1774930786750097\n"
     ]
    }
   ],
   "source": [
    "# The Bayes factor can be compute from samples or log PDFs\n",
    "# There will be differences due to finite sampling and KDEs\n",
    "# Use explicit forms for the model and prior where possible\n",
    "\n",
    "print(ModelComparison(model_samples, prior_log_pdf, posterior_samples)())\n",
    "print(ModelComparison(model_log_pdf, prior_samples, posterior_samples)())\n",
    "print(ModelComparison(model_samples, prior_samples, posterior_samples)())\n",
    "print(ModelComparison(model_log_pdf, prior_log_pdf, posterior_samples)())"
   ]
  },
  {
   "cell_type": "code",
   "execution_count": 12,
   "id": "528ed2cc-1883-479b-884a-a809c5c46a1c",
   "metadata": {},
   "outputs": [
    {
     "data": {
      "text/plain": [
       "0.0"
      ]
     },
     "execution_count": 12,
     "metadata": {},
     "output_type": "execute_result"
    }
   ],
   "source": [
    "# As a sanity check:\n",
    "\n",
    "ModelComparison(prior_log_pdf, prior_log_pdf, posterior_samples)()"
   ]
  },
  {
   "cell_type": "markdown",
   "id": "609bad6d-926e-4568-9858-19a1aac66913",
   "metadata": {},
   "source": [
    "## Posterior odds"
   ]
  },
  {
   "cell_type": "code",
   "execution_count": 13,
   "id": "0973600f-54c4-46d7-b30e-903d6daf4a27",
   "metadata": {},
   "outputs": [
    {
     "data": {
      "text/plain": [
       "-1.1774930786750097"
      ]
     },
     "execution_count": 13,
     "metadata": {},
     "output_type": "execute_result"
    }
   ],
   "source": [
    "# log_odds is a functional wrapper of ModelComparison to compute posterior odds\n",
    "# It additionally takes the priors_odds argument\n",
    "# If prior_odds = 1 (default), this is the same as the Bayes factor\n",
    "\n",
    "log_odds(model_log_pdf, prior_log_pdf, posterior_samples)"
   ]
  },
  {
   "cell_type": "code",
   "execution_count": 14,
   "id": "01faf987-1bc7-4889-b235-698544d3807b",
   "metadata": {},
   "outputs": [
    {
     "data": {
      "text/plain": [
       "1.1250920143190362"
      ]
     },
     "execution_count": 14,
     "metadata": {},
     "output_type": "execute_result"
    }
   ],
   "source": [
    "# If we believe the model is ten times more likely than the original prior:\n",
    "\n",
    "log_odds(model_log_pdf, prior_log_pdf, posterior_samples, prior_odds=10)"
   ]
  },
  {
   "cell_type": "markdown",
   "id": "8965fe41-9e68-4ec6-8eb4-9345e7e2eb1d",
   "metadata": {},
   "source": [
    "## Prior bounds"
   ]
  },
  {
   "cell_type": "code",
   "execution_count": 15,
   "id": "c79c31f0-1fa9-429d-baad-db41b49d2bbd",
   "metadata": {},
   "outputs": [
    {
     "name": "stdout",
     "output_type": "stream",
     "text": [
      "-1.121733049804809\n",
      "-1.2605173215345937\n"
     ]
    }
   ],
   "source": [
    "# When using model and/or prior samples, we can enforce bounds on the KDE\n",
    "# It is slow due to the boundary reflective method employed\n",
    "\n",
    "model_bounds = (model_min, model_max)\n",
    "mc = ModelComparison(\n",
    "    model_samples, prior_log_pdf, posterior_samples, model_bounds=model_bounds,\n",
    "    )\n",
    "print(mc())\n",
    "\n",
    "prior_bounds = (prior_min, prior_max)\n",
    "log_bf = log_odds(\n",
    "    model_samples, prior_samples, posterior_samples, prior_bounds=prior_bounds,\n",
    "    )\n",
    "print(log_bf)"
   ]
  },
  {
   "cell_type": "code",
   "execution_count": 16,
   "id": "2fab6d9d-c9fb-42f1-bd04-0ef1e142da84",
   "metadata": {},
   "outputs": [
    {
     "name": "stdout",
     "output_type": "stream",
     "text": [
      "0.3080500286013803\n",
      "0.3080500286013803\n"
     ]
    }
   ],
   "source": [
    "# When the model or prior is given as a callable, bounds has no effect\n",
    "\n",
    "bf = ModelComparison(\n",
    "    model_log_pdf, prior_log_pdf, posterior_samples,\n",
    "    model_bounds=None, prior_bounds=None,\n",
    "    ).bayes_factor()\n",
    "print(bf)\n",
    "\n",
    "bf = ModelComparison(\n",
    "    model_log_pdf, prior_log_pdf, posterior_samples,\n",
    "    model_bounds=model_bounds, prior_bounds=prior_bounds,\n",
    "    ).bayes_factor()\n",
    "print(bf)"
   ]
  },
  {
   "cell_type": "markdown",
   "id": "1eb4b42e-bb70-4311-bb2c-c9441917fc96",
   "metadata": {},
   "source": [
    "## Comparison between two different models"
   ]
  },
  {
   "cell_type": "code",
   "execution_count": 17,
   "id": "e5b82e0a-2479-499e-b931-95dff9470148",
   "metadata": {},
   "outputs": [],
   "source": [
    "# Make two fiducial populations\n",
    "model_min = 1\n",
    "model_max = 100\n",
    "\n",
    "indexA = -1.2\n",
    "indexB = -2.0\n",
    "\n",
    "# Model evaluation\n",
    "modelA_log_pdf = lambda x: log_powerlaw(x, indexA, model_min, model_max)\n",
    "modelB_log_pdf = lambda x: log_powerlaw(x, indexB, model_min, model_max)"
   ]
  },
  {
   "cell_type": "code",
   "execution_count": 18,
   "id": "6e9ed83d-8bb8-4e5a-97bc-038b9b3a95fe",
   "metadata": {},
   "outputs": [
    {
     "name": "stdout",
     "output_type": "stream",
     "text": [
      "7.392381529540311\n"
     ]
    }
   ],
   "source": [
    "# The Bayes factor between A and B is just given by the ratio of the two\n",
    "# Bayes factors over the original prior\n",
    "\n",
    "mcA = ModelComparison(modelA_log_pdf, prior_log_pdf, posterior_samples)\n",
    "bfA = mcA.bayes_factor()\n",
    "\n",
    "mcB = ModelComparison(modelB_log_pdf, prior_log_pdf, posterior_samples)\n",
    "bfB = mcB.bayes_factor()\n",
    "\n",
    "bfAB = bfA / bfB\n",
    "print(bfAB)"
   ]
  },
  {
   "cell_type": "code",
   "execution_count": 19,
   "id": "932b8ff7-fb1c-4d0c-b35a-e827c75035a3",
   "metadata": {},
   "outputs": [
    {
     "name": "stdout",
     "output_type": "stream",
     "text": [
      "2.0004499468521733\n",
      "7.39238152954031\n"
     ]
    }
   ],
   "source": [
    "# Equivalently:\n",
    "\n",
    "log_bfA = log_odds(modelA_log_pdf, prior_log_pdf, posterior_samples)\n",
    "log_bfB = log_odds(modelB_log_pdf, prior_log_pdf, posterior_samples)\n",
    "\n",
    "log_bfAB = log_bfA - log_bfB\n",
    "print(log_bfAB)\n",
    "print(np.exp(log_bfAB))"
   ]
  },
  {
   "cell_type": "code",
   "execution_count": 20,
   "id": "071c5e6f-5362-44f1-9ff3-10fd85398147",
   "metadata": {},
   "outputs": [
    {
     "name": "stdout",
     "output_type": "stream",
     "text": [
      "-0.30213514614187265\n"
     ]
    }
   ],
   "source": [
    "# If we believe model B is ten times more likely than model A:\n",
    "prior_oddsBA = 10\n",
    "\n",
    "log_oddsA = log_odds(\n",
    "    modelA_log_pdf, prior_log_pdf, posterior_samples, prior_odds=1,\n",
    "    )\n",
    "log_oddsB = log_odds(\n",
    "    modelB_log_pdf, prior_log_pdf, posterior_samples, prior_odds=prior_oddsBA,\n",
    "    )\n",
    "\n",
    "log_oddsAB = log_oddsA - log_oddsB\n",
    "print(log_oddsAB)"
   ]
  },
  {
   "cell_type": "code",
   "execution_count": 21,
   "id": "4c093e85-5d77-402b-bbe8-77800e28f1c9",
   "metadata": {},
   "outputs": [
    {
     "name": "stdout",
     "output_type": "stream",
     "text": [
      "-0.3021351461418722\n"
     ]
    }
   ],
   "source": [
    "# Equivalently:\n",
    "prior_oddsAB = 1 / 10\n",
    "\n",
    "log_oddsA = log_odds(\n",
    "    modelA_log_pdf, prior_log_pdf, posterior_samples, prior_odds=prior_oddsAB,\n",
    "    )\n",
    "log_oddsB = log_odds(\n",
    "    modelB_log_pdf, prior_log_pdf, posterior_samples, prior_odds=1,\n",
    "    )\n",
    "\n",
    "log_oddsAB = log_oddsA - log_oddsB\n",
    "print(log_oddsAB)"
   ]
  },
  {
   "cell_type": "markdown",
   "id": "4b6f03e9-1f42-4178-9dec-8f54c60c8937",
   "metadata": {},
   "source": [
    "## Kernel density estimation"
   ]
  },
  {
   "cell_type": "code",
   "execution_count": 22,
   "id": "c70973fb-f087-43f2-bed3-55cc879ffe9f",
   "metadata": {},
   "outputs": [
    {
     "data": {
      "image/png": "[encoded data removed]",
      "text/plain": [
       "<Figure size 432x288 with 1 Axes>"
      ]
     },
     "metadata": {
      "needs_background": "light"
     },
     "output_type": "display_data"
    }
   ],
   "source": [
    "# The underlying class computing PDFs on samples is popodds.KDE\n",
    "# It's a wrapper of scipy.stats.gaussian_kde to handle bounded domains\n",
    "# It sets zero PDF gradients at boundaries by reflecting the data\n",
    "\n",
    "x = np.linspace(0, 100, 100)\n",
    "\n",
    "kde = KDE(prior_samples)\n",
    "pdf = kde.pdf(x)\n",
    "\n",
    "bounded_kde = KDE(prior_samples, bounds=prior_bounds)\n",
    "bounded_pdf = bounded_kde.pdf(x)\n",
    "\n",
    "plt.hist(prior_samples, bins=50, density=True, histtype='step')\n",
    "plt.plot(x, pdf)\n",
    "plt.plot(x, bounded_pdf);"
   ]
  },
  {
   "cell_type": "code",
   "execution_count": null,
   "id": "30daf7a5-04d5-40f3-8ac1-ec163d7c4fd6",
   "metadata": {},
   "outputs": [],
   "source": []
  }
 ],
 "metadata": {
  "kernelspec": {
   "display_name": "popodds",
   "language": "python",
   "name": "popodds"
  },
  "language_info": {
   "codemirror_mode": {
    "name": "ipython",
    "version": 3
   },
   "file_extension": ".py",
   "mimetype": "text/x-python",
   "name": "python",
   "nbconvert_exporter": "python",
   "pygments_lexer": "ipython3",
   "version": "3.9.13"
  }
 },
 "nbformat": 4,
 "nbformat_minor": 5
}
