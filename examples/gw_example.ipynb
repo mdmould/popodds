{
 "cells": [
  {
   "cell_type": "markdown",
   "id": "af402886-bff9-4a25-b5cb-66fb1d647a37",
   "metadata": {},
   "source": [
    "## Download the data from GWOSC"
   ]
  },
  {
   "cell_type": "code",
   "execution_count": 34,
   "id": "5ff94e92-5231-417e-912d-80e6dd57e45d",
   "metadata": {
    "scrolled": true,
    "tags": []
   },
   "outputs": [],
   "source": [
    "import os\n",
    "\n",
    "for url in (\n",
    "    'https://zenodo.org/record/6513631/files/IGWN-GWTC2p1-v2-GW150914_095045_PEDataRelease_mixed_cosmo.h5',\n",
    "    'https://zenodo.org/record/5636816/files/o1%2Bo2%2Bo3_bbhpop_real%2Bsemianalytic-LIGO-T2100377-v2.hdf5',\n",
    "    ):\n",
    "    file = url.split('files/')[1].replace('%2B', '+')\n",
    "    if not os.path.exists('./data/' + file):\n",
    "        os.system(f'wget -P ./data/ {url}')"
   ]
  },
  {
   "cell_type": "markdown",
   "id": "98589646-77e8-45f8-8dc0-58a55e52110b",
   "metadata": {},
   "source": [
    "## Install popodds"
   ]
  },
  {
   "cell_type": "code",
   "execution_count": 2,
   "id": "174793bb-3185-4d60-891d-6e95dd5281b1",
   "metadata": {
    "tags": []
   },
   "outputs": [
    {
     "name": "stdout",
     "output_type": "stream",
     "text": [
      "Obtaining file:///home/ADF/mdm988/matt/code/popodds\n",
      "  Preparing metadata (setup.py): started\n",
      "  Preparing metadata (setup.py): finished with status 'done'\n",
      "Requirement already satisfied: numpy in /home/ADF/mdm988/.pyenv/versions/3.9.13/envs/default/lib/python3.9/site-packages (from popodds==0.5.3) (1.23.5)\n",
      "Requirement already satisfied: scipy in /home/ADF/mdm988/.pyenv/versions/3.9.13/envs/default/lib/python3.9/site-packages (from popodds==0.5.3) (1.9.3)\n",
      "Requirement already satisfied: kaydee in /home/ADF/mdm988/.pyenv/versions/3.9.13/envs/default/lib/python3.9/site-packages (from popodds==0.5.3) (0.1.2)\n",
      "Requirement already satisfied: tqdm-pathos in /home/ADF/mdm988/.pyenv/versions/3.9.13/envs/default/lib/python3.9/site-packages (from kaydee->popodds==0.5.3) (0.2)\n",
      "Requirement already satisfied: tqdm in /home/ADF/mdm988/.pyenv/versions/3.9.13/envs/default/lib/python3.9/site-packages (from tqdm-pathos->kaydee->popodds==0.5.3) (4.64.1)\n",
      "Requirement already satisfied: pathos in /home/ADF/mdm988/.pyenv/versions/3.9.13/envs/default/lib/python3.9/site-packages (from tqdm-pathos->kaydee->popodds==0.5.3) (0.3.0)\n",
      "Requirement already satisfied: ppft>=1.7.6.6 in /home/ADF/mdm988/.pyenv/versions/3.9.13/envs/default/lib/python3.9/site-packages (from pathos->tqdm-pathos->kaydee->popodds==0.5.3) (1.7.6.6)\n",
      "Requirement already satisfied: dill>=0.3.6 in /home/ADF/mdm988/.pyenv/versions/3.9.13/envs/default/lib/python3.9/site-packages (from pathos->tqdm-pathos->kaydee->popodds==0.5.3) (0.3.6)\n",
      "Requirement already satisfied: pox>=0.3.2 in /home/ADF/mdm988/.pyenv/versions/3.9.13/envs/default/lib/python3.9/site-packages (from pathos->tqdm-pathos->kaydee->popodds==0.5.3) (0.3.2)\n",
      "Requirement already satisfied: multiprocess>=0.70.14 in /home/ADF/mdm988/.pyenv/versions/3.9.13/envs/default/lib/python3.9/site-packages (from pathos->tqdm-pathos->kaydee->popodds==0.5.3) (0.70.14)\n",
      "Installing collected packages: popodds\n",
      "  Attempting uninstall: popodds\n",
      "    Found existing installation: popodds 0.5.2\n",
      "    Uninstalling popodds-0.5.2:\n",
      "      Successfully uninstalled popodds-0.5.2\n",
      "  Running setup.py develop for popodds\n",
      "Successfully installed popodds-0.5.3\n"
     ]
    }
   ],
   "source": [
    "try:\n",
    "    os.system('pip install -e ..')\n",
    "except:\n",
    "    os.system('pip install -U popodds')"
   ]
  },
  {
   "cell_type": "code",
   "execution_count": 3,
   "id": "61cdff6a-3c9a-4139-b14e-9ccf616c91dd",
   "metadata": {
    "tags": []
   },
   "outputs": [],
   "source": [
    "import numpy as np\n",
    "import h5py\n",
    "import matplotlib.pyplot as plt\n",
    "from kaydee import KDE\n",
    "import popodds"
   ]
  },
  {
   "cell_type": "markdown",
   "id": "19a3c007-3992-4a86-81ec-ab2b7b5a52fe",
   "metadata": {},
   "source": [
    "## Population model"
   ]
  },
  {
   "cell_type": "code",
   "execution_count": 4,
   "id": "adfe66f9-c2e6-4802-af58-44a2b7cb7244",
   "metadata": {
    "tags": []
   },
   "outputs": [],
   "source": [
    "def powerlaw(x, lo, hi, slope):\n",
    "    \n",
    "    shape = x**slope\n",
    "    norm = (slope + 1) / (hi**(slope + 1) - lo**(slope + 1))\n",
    "    cut = (lo < x) * (x < hi)\n",
    "    \n",
    "    return shape * norm * cut\n",
    "\n",
    "def model(x, m_min, m_max, m_slope, q_slope):\n",
    "    \n",
    "    m1, q = x\n",
    "    p_m1 = powerlaw(m1, m_min, m_max, m_slope)\n",
    "    p_q = powerlaw(q, m_min/m1, 1, q_slope)\n",
    "    \n",
    "    return p_m1 * p_q"
   ]
  },
  {
   "cell_type": "markdown",
   "id": "92ee95d9-bf59-4622-95d3-ceebd4747133",
   "metadata": {},
   "source": [
    "## GW150914 parameter estimation samples"
   ]
  },
  {
   "cell_type": "code",
   "execution_count": 5,
   "id": "20d3a0c7-ce77-4323-963f-c3824e776a07",
   "metadata": {
    "tags": []
   },
   "outputs": [],
   "source": [
    "file = './data/IGWN-GWTC2p1-v2-GW150914_095045_PEDataRelease_mixed_cosmo.h5'\n",
    "with h5py.File(file, 'r') as h:\n",
    "    pos = h['C01:IMRPhenomXPHM']['posterior_samples']\n",
    "    \n",
    "    m1 = pos['mass_1_source']\n",
    "    q = pos['mass_ratio']\n",
    "    samples = np.array([m1, q])\n",
    "    \n",
    "    m1z = pos['mass_1']\n",
    "    m2z = pos['mass_2']\n",
    "    samples_z = np.array([m1z, m2z])\n",
    "    \n",
    "    z = pos['redshift'][:]\n",
    "    \n",
    "    pri = h['C01:IMRPhenomXPHM']['priors']['samples']\n",
    "    samples_pri = np.array([pri['mass_1'], pri['mass_2']])"
   ]
  },
  {
   "cell_type": "code",
   "execution_count": 6,
   "id": "a138abd2-c59f-4418-b5f9-634921907939",
   "metadata": {
    "tags": []
   },
   "outputs": [
    {
     "name": "stdout",
     "output_type": "stream",
     "text": [
      "(2, 147634)\n",
      "(2, 5000)\n"
     ]
    }
   ],
   "source": [
    "print(samples.shape)\n",
    "print(samples_pri.shape)"
   ]
  },
  {
   "cell_type": "code",
   "execution_count": 35,
   "id": "d937366b-c4af-4042-a858-3f5b74515f03",
   "metadata": {
    "tags": []
   },
   "outputs": [
    {
     "data": {
      "image/png": "[encoded data removed]",
      "text/plain": [
       "<Figure size 432x288 with 1 Axes>"
      ]
     },
     "metadata": {
      "needs_background": "light"
     },
     "output_type": "display_data"
    }
   ],
   "source": [
    "# The m1--q posterior\n",
    "\n",
    "plt.scatter(*samples, s=1)\n",
    "plt.xlabel('m1')\n",
    "plt.ylabel('q');"
   ]
  },
  {
   "cell_type": "code",
   "execution_count": 36,
   "id": "d8071721-7e6c-49c3-b01a-09d0993398f2",
   "metadata": {
    "tags": []
   },
   "outputs": [
    {
     "data": {
      "image/png": "[encoded data removed]",
      "text/plain": [
       "<Figure size 432x288 with 1 Axes>"
      ]
     },
     "metadata": {
      "needs_background": "light"
     },
     "output_type": "display_data"
    }
   ],
   "source": [
    "# The m1z--m2z prior\n",
    "# As we can see, there are mass cuts in the (detector-frame) prior\n",
    "\n",
    "plt.scatter(*samples_pri, s=1)\n",
    "plt.xlabel('m1z')\n",
    "plt.ylabel('m2z');"
   ]
  },
  {
   "cell_type": "code",
   "execution_count": 9,
   "id": "ccca4a43-611a-4ea9-9e9f-e562016f1c44",
   "metadata": {
    "tags": []
   },
   "outputs": [],
   "source": [
    "# The Jacobian for (m1z, m2z, z) -> (m1, q, z) is m1(1+z)^2\n",
    "# The prior p(m1z, m2z) is flat inside the cuts\n",
    "# We assume a redshift model equal to the PE prior so it cancels\n",
    "\n",
    "# PE prior evaluated at posterior sample locations\n",
    "# This only captures the prior shape, not the normalization\n",
    "# We don't need the prior normalization when comparing two models as it cancels\n",
    "# But we do need it if we just compare one model to the PE prior\n",
    "\n",
    "prior_nonorm_ = m1 * (1 + z)**2\n",
    "prior_nonorm = lambda x: prior_nonorm_"
   ]
  },
  {
   "cell_type": "code",
   "execution_count": 10,
   "id": "e0149452-05f2-49e6-9fdf-21caed3f366a",
   "metadata": {
    "tags": []
   },
   "outputs": [],
   "source": [
    "# We can also estimate the normalized prior\n",
    "\n",
    "kde = KDE(samples_pri)\n",
    "prior_kde_ = kde.pdf(samples_z) * prior_nonorm_\n",
    "prior_kde = lambda x: prior_kde_"
   ]
  },
  {
   "cell_type": "markdown",
   "id": "34a8b022-2c68-4aad-9b6d-9b304d91d38a",
   "metadata": {},
   "source": [
    "## Without selection effects"
   ]
  },
  {
   "cell_type": "code",
   "execution_count": 11,
   "id": "8963c8d1-80cc-48bb-9559-aefc6da86ac8",
   "metadata": {
    "tags": []
   },
   "outputs": [],
   "source": [
    "# Define the astrophysical model\n",
    "\n",
    "modelA = lambda x: model(x, m_min=2, m_max=40, m_slope=-2, q_slope=0)"
   ]
  },
  {
   "cell_type": "code",
   "execution_count": 12,
   "id": "e16522cd-1647-4c7b-9aa2-7125861160a5",
   "metadata": {
    "tags": []
   },
   "outputs": [
    {
     "name": "stdout",
     "output_type": "stream",
     "text": [
      "-10.066673649552595\n",
      "-1.6297781459102332\n"
     ]
    },
    {
     "name": "stderr",
     "output_type": "stream",
     "text": [
      "/home/ADF/mdm988/matt/code/popodds/popodds/__init__.py:215: RuntimeWarning: divide by zero encountered in log\n",
      "  model = np.log(model)\n"
     ]
    }
   ],
   "source": [
    "# Compute the log Bayes factor for modelA over the PE prior\n",
    "\n",
    "# Wrong! Because the prior is not normalized\n",
    "log_bf_nonorm = popodds.log_odds(modelA, prior_nonorm, samples, log=False)\n",
    "print(log_bf_nonorm)\n",
    "\n",
    "# With prior normalized\n",
    "log_bf_kde = popodds.log_odds(modelA, prior_kde, samples, log=False)\n",
    "print(log_bf_kde)"
   ]
  },
  {
   "cell_type": "code",
   "execution_count": 32,
   "id": "4ee86862-022c-403a-b456-7e487aaa2a79",
   "metadata": {
    "tags": []
   },
   "outputs": [],
   "source": [
    "# Now define a second astrophysical model\n",
    "\n",
    "modelB = lambda x: model(x, m_min=2, m_max=40, m_slope=-3, q_slope=1)"
   ]
  },
  {
   "cell_type": "code",
   "execution_count": 33,
   "id": "57ea3450-2188-47f8-8d57-be4fe33db014",
   "metadata": {
    "tags": []
   },
   "outputs": [
    {
     "name": "stdout",
     "output_type": "stream",
     "text": [
      "1.71445066377\n",
      "1.6830374335159988\n"
     ]
    }
   ],
   "source": [
    "# Compute the log Bayes factor for modelA over modelB\n",
    "\n",
    "# The prior normalization is constant and cancels\n",
    "log_bfAB_nonorm = popodds.log_odds(\n",
    "    modelA, prior_nonorm, samples, log=False, second_model=modelB,\n",
    "    )\n",
    "print(log_bfAB_nonorm)\n",
    "\n",
    "# This is roughly the same up to errors from the prior KDE\n",
    "log_bfAB_kde = popodds.log_odds(\n",
    "    modelA, prior_kde, samples, log=False, second_model=modelB,\n",
    "    )\n",
    "print(log_bfAB_kde)"
   ]
  },
  {
   "cell_type": "markdown",
   "id": "6ef2f138-65df-4ec4-80ed-3c6e79324bdf",
   "metadata": {},
   "source": [
    "## With selection effects"
   ]
  },
  {
   "cell_type": "code",
   "execution_count": 125,
   "id": "eb0f597b-5b5a-4f55-9f9e-8732f4ab96db",
   "metadata": {
    "tags": []
   },
   "outputs": [],
   "source": [
    "# We compute population detection fractions by reweighting recovered injections\n",
    "\n",
    "cut_far = 1\n",
    "cut_snr = 12\n",
    "\n",
    "file = './data/o1+o2+o3_bbhpop_real+semianalytic-LIGO-T2100377-v2.hdf5'\n",
    "with h5py.File(file, 'r') as h:\n",
    "    \n",
    "    # Actually, we don't need to know the total (detectable + not detectable)\n",
    "    # number of injections, becaues it cancels\n",
    "    # n_total = h.attrs['total_generated']\n",
    "    \n",
    "    d = h['injections']\n",
    "    \n",
    "    ifars = np.max([d[par][:] for par in d if 'ifar' in par], axis=0)\n",
    "    snrs = d['optimal_snr_net'][:]\n",
    "    obs_runs = d['name'][:].astype(str)\n",
    "    found = np.where(obs_runs == 'o3', ifars > 1/cut_far, snrs > cut_snr)\n",
    "    \n",
    "    m1 = d['mass1_source'][:][found]\n",
    "    m2 = d['mass2_source'][:][found]\n",
    "    s1x = d['spin1x'][:][found]\n",
    "    s1y = d['spin1y'][:][found]\n",
    "    s1z = d['spin1z'][:][found]\n",
    "    s2x = d['spin2x'][:][found]\n",
    "    s2y = d['spin2y'][:][found]\n",
    "    s2z = d['spin2z'][:][found]\n",
    "    z = d['redshift'][:][found]\n",
    "        \n",
    "    # See https://zenodo.org/record/5546676 for the injection distribution\n",
    "    # sampling_pdf is the injected p(m1, m2, s1x, s1y, s1z, s2x, s2y, s2z, z)\n",
    "    # We model p(m1, m2), but we also assume a z model equal to the PE prior\n",
    "    # The z PE prior is different to the injected distribution\n",
    "\n",
    "    p = d['sampling_pdf'][:][found]"
   ]
  },
  {
   "cell_type": "code",
   "execution_count": 136,
   "id": "1cfb25bf-491a-4ced-954b-c31a0436d4d6",
   "metadata": {
    "tags": []
   },
   "outputs": [],
   "source": [
    "pow_mass1 = -2.35\n",
    "min_mass1 = 2\n",
    "max_mass1 = 100\n",
    "min_mass2 = 2\n",
    "pow_mass2 = 1\n",
    "\n",
    "def p_m(m1, m2):\n",
    "\n",
    "    p1 = m1**pow_mass1 * (min_mass1 <= m1) * (m1 <= max_mass1)\n",
    "    p2 = m2**pow_mass2 * (min_mass2 <= m2) * (m2 <= m1)\n",
    "    \n",
    "    norm = (\n",
    "        max_mass1**(pow_mass1+1) * (\n",
    "            max_mass1**(pow_mass2+1) / (pow_mass1+pow_mass2+2) -\n",
    "            min_mass2**(pow_mass2+1) / (pow_mass1+1)\n",
    "            ) -\n",
    "        min_mass1**(pow_mass1+1) * (\n",
    "            min_mass1**(pow_mass2+1) / (pow_mass1+pow_mass2+2) -\n",
    "            min_mass2**(pow_mass2+1) / (pow_mass1+1)\n",
    "            )\n",
    "        ) / (pow_mass2+1)\n",
    "    \n",
    "    return p1 * p2 / norm"
   ]
  },
  {
   "cell_type": "code",
   "execution_count": 137,
   "id": "988469b5-ef31-4ca6-8cab-65789eb618f3",
   "metadata": {
    "tags": []
   },
   "outputs": [],
   "source": [
    "max_spin = 0.998\n",
    "\n",
    "def p_s(sx, sy, sz):\n",
    "    \n",
    "    ssq = sx**2 + sy**2 + sz**2\n",
    "    \n",
    "    return (ssq <= max_spin**2) / 4 / np.pi / ssq / max_spin"
   ]
  },
  {
   "cell_type": "code",
   "execution_count": 138,
   "id": "c4b4b30b-b189-49dd-b91a-46bc7e5b0847",
   "metadata": {
    "tags": []
   },
   "outputs": [],
   "source": [
    "from astropy.cosmology import Planck15\n",
    "from scipy.interpolate import interp1d\n",
    "from scipy.integrate import quad\n",
    "\n",
    "class PowerlawRedshift:\n",
    "\n",
    "    def __init__(self, z_min=0, z_max=1.9, z_pow=1):\n",
    "\n",
    "        self.z_min = z_min\n",
    "        self.z_max = z_max\n",
    "        self.z_pow = z_pow\n",
    "        \n",
    "        zs = np.linspace(z_min, z.max(), 5000)\n",
    "        dVdz = Planck15.differential_comoving_volume(zs).value #* 4 * np.pi\n",
    "        self.dVdz = interp1d(zs, dVdz)\n",
    "        self.norm = quad(self.model, z_min, z_max)[0]\n",
    "\n",
    "    def model(self, z):\n",
    "        \n",
    "        return self.dVdz(z) * (1 + z)**(self.z_pow - 1)\n",
    "\n",
    "    def prob(self, z):\n",
    "\n",
    "        return (self.z_min < z) * (z < self.z_max) * self.model(z) / self.norm\n",
    "    \n",
    "z_pow = 1\n",
    "z_max = 1.9\n",
    "\n",
    "p_z = PowerlawRedshift(z_max=z_max, z_pow=z_pow).prob"
   ]
  },
  {
   "cell_type": "code",
   "execution_count": 139,
   "id": "59cd1b9c-8980-4d22-8c57-f4926c6ff4fc",
   "metadata": {
    "tags": []
   },
   "outputs": [
    {
     "data": {
      "text/plain": [
       "array([5.08844182e-07, 2.02310968e-06, 1.98497068e-05, ...,\n",
       "       6.22318655e-07, 2.61628606e-04, 2.88339823e-07])"
      ]
     },
     "execution_count": 139,
     "metadata": {},
     "output_type": "execute_result"
    }
   ],
   "source": [
    "p"
   ]
  },
  {
   "cell_type": "code",
   "execution_count": 142,
   "id": "dc8a96a1",
   "metadata": {
    "tags": []
   },
   "outputs": [
    {
     "data": {
      "text/plain": [
       "array([1.62786240e-06, 1.63926452e-05, 2.56679049e-04, ...,\n",
       "       4.48198402e-06, 1.15415733e-02, 2.45892567e-06])"
      ]
     },
     "execution_count": 116,
     "metadata": {},
     "output_type": "execute_result"
    }
   ],
   "source": [
    "p_m(m1, m2) * p_s(s1x, s1y, s1z) * p_s(s2x, s2y, s2z) * p_z(z) / p"
   ]
  },
  {
   "cell_type": "code",
   "execution_count": 143,
   "id": "d1973c76-0260-4f1f-b3ee-533d26a614ea",
   "metadata": {
    "tags": []
   },
   "outputs": [
    {
     "data": {
      "image/png": "[encoded data removed]",
      "text/plain": [
       "<Figure size 432x288 with 1 Axes>"
      ]
     },
     "metadata": {
      "needs_background": "light"
     },
     "output_type": "display_data"
    }
   ],
   "source": [
    "plt.hist(p_m(m1, m2) * p_s(s1x, s1y, s1z) * p_s(s2x, s2y, s2z) * p_z(z) / p);"
   ]
  },
  {
   "cell_type": "code",
   "execution_count": null,
   "id": "188b812c-c46e-4b57-9394-ada422a93ace",
   "metadata": {},
   "outputs": [],
   "source": []
  }
 ],
 "metadata": {
  "kernelspec": {
   "display_name": "popodds",
   "language": "python",
   "name": "popodds"
  },
  "language_info": {
   "codemirror_mode": {
    "name": "ipython",
    "version": 3
   },
   "file_extension": ".py",
   "mimetype": "text/x-python",
   "name": "python",
   "nbconvert_exporter": "python",
   "pygments_lexer": "ipython3",
   "version": "3.9.13"
  }
 },
 "nbformat": 4,
 "nbformat_minor": 5
}
