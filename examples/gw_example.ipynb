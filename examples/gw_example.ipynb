{
 "cells": [
  {
   "cell_type": "markdown",
   "id": "af402886-bff9-4a25-b5cb-66fb1d647a37",
   "metadata": {},
   "source": [
    "## Download the data from GWOSC"
   ]
  },
  {
   "cell_type": "code",
   "execution_count": 1,
   "id": "5ff94e92-5231-417e-912d-80e6dd57e45d",
   "metadata": {
    "scrolled": true,
    "tags": []
   },
   "outputs": [],
   "source": [
    "import os\n",
    "\n",
    "for url in (\n",
    "    'https://zenodo.org/record/6513631/files/IGWN-GWTC2p1-v2-GW150914_095045_PEDataRelease_mixed_cosmo.h5',\n",
    "    'https://zenodo.org/record/5636816/files/o1%2Bo2%2Bo3_bbhpop_real%2Bsemianalytic-LIGO-T2100377-v2.hdf5',\n",
    "    ):\n",
    "    file = url.split('files/')[1].replace('%2B', '+')\n",
    "    if not os.path.exists('./data/' + file):\n",
    "        os.system(f'wget -P ./data/ {url}')"
   ]
  },
  {
   "cell_type": "markdown",
   "id": "98589646-77e8-45f8-8dc0-58a55e52110b",
   "metadata": {},
   "source": [
    "## Install popodds"
   ]
  },
  {
   "cell_type": "code",
   "execution_count": 2,
   "id": "824c4c14-a62a-4fe6-9135-6fa63666e834",
   "metadata": {
    "tags": []
   },
   "outputs": [],
   "source": [
    "#!pip install -U popodds"
   ]
  },
  {
   "cell_type": "code",
   "execution_count": 3,
   "id": "174793bb-3185-4d60-891d-6e95dd5281b1",
   "metadata": {
    "tags": []
   },
   "outputs": [
    {
     "name": "stdout",
     "output_type": "stream",
     "text": [
      "Obtaining file:///home/ADF/mdm988/matt/code/popodds\n",
      "  Preparing metadata (setup.py): started\n",
      "  Preparing metadata (setup.py): finished with status 'done'\n",
      "Requirement already satisfied: numpy in /home/ADF/mdm988/.pyenv/versions/3.9.13/envs/default/lib/python3.9/site-packages (from popodds==0.5.3) (1.23.5)\n",
      "Requirement already satisfied: scipy in /home/ADF/mdm988/.pyenv/versions/3.9.13/envs/default/lib/python3.9/site-packages (from popodds==0.5.3) (1.9.3)\n",
      "Requirement already satisfied: kaydee in /home/ADF/mdm988/.pyenv/versions/3.9.13/envs/default/lib/python3.9/site-packages (from popodds==0.5.3) (0.1.2)\n",
      "Requirement already satisfied: tqdm-pathos in /home/ADF/mdm988/.pyenv/versions/3.9.13/envs/default/lib/python3.9/site-packages (from kaydee->popodds==0.5.3) (0.2)\n",
      "Requirement already satisfied: tqdm in /home/ADF/mdm988/.pyenv/versions/3.9.13/envs/default/lib/python3.9/site-packages (from tqdm-pathos->kaydee->popodds==0.5.3) (4.64.1)\n",
      "Requirement already satisfied: pathos in /home/ADF/mdm988/.pyenv/versions/3.9.13/envs/default/lib/python3.9/site-packages (from tqdm-pathos->kaydee->popodds==0.5.3) (0.3.0)\n",
      "Requirement already satisfied: dill>=0.3.6 in /home/ADF/mdm988/.pyenv/versions/3.9.13/envs/default/lib/python3.9/site-packages (from pathos->tqdm-pathos->kaydee->popodds==0.5.3) (0.3.6)\n",
      "Requirement already satisfied: ppft>=1.7.6.6 in /home/ADF/mdm988/.pyenv/versions/3.9.13/envs/default/lib/python3.9/site-packages (from pathos->tqdm-pathos->kaydee->popodds==0.5.3) (1.7.6.6)\n",
      "Requirement already satisfied: pox>=0.3.2 in /home/ADF/mdm988/.pyenv/versions/3.9.13/envs/default/lib/python3.9/site-packages (from pathos->tqdm-pathos->kaydee->popodds==0.5.3) (0.3.2)\n",
      "Requirement already satisfied: multiprocess>=0.70.14 in /home/ADF/mdm988/.pyenv/versions/3.9.13/envs/default/lib/python3.9/site-packages (from pathos->tqdm-pathos->kaydee->popodds==0.5.3) (0.70.14)\n",
      "Installing collected packages: popodds\n",
      "  Attempting uninstall: popodds\n",
      "    Found existing installation: popodds 0.5.3\n",
      "    Uninstalling popodds-0.5.3:\n",
      "      Successfully uninstalled popodds-0.5.3\n",
      "  Running setup.py develop for popodds\n",
      "Successfully installed popodds-0.5.3\n"
     ]
    }
   ],
   "source": [
    "try:\n",
    "    os.system('pip install -e ..')\n",
    "except:\n",
    "    os.system('pip install -U popodds')"
   ]
  },
  {
   "cell_type": "code",
   "execution_count": 169,
   "id": "61cdff6a-3c9a-4139-b14e-9ccf616c91dd",
   "metadata": {
    "tags": []
   },
   "outputs": [],
   "source": [
    "import numpy as np\n",
    "import h5py\n",
    "from astropy.cosmology import Planck15\n",
    "from scipy.interpolate import interp1d\n",
    "from scipy.integrate import quad\n",
    "import matplotlib.pyplot as plt\n",
    "from kaydee import KDE\n",
    "import popodds"
   ]
  },
  {
   "cell_type": "markdown",
   "id": "19a3c007-3992-4a86-81ec-ab2b7b5a52fe",
   "metadata": {},
   "source": [
    "## Population model"
   ]
  },
  {
   "cell_type": "code",
   "execution_count": 158,
   "id": "adfe66f9-c2e6-4802-af58-44a2b7cb7244",
   "metadata": {
    "tags": []
   },
   "outputs": [],
   "source": [
    "# We take power laws in m1 and q\n",
    "# We assume the rest of the model matches the PE prior\n",
    "# E.g., uniform spin mags, isotropic spin angles, etc.\n",
    "# Thus those parts of the model cancel the PE prior in the Bayes factor\n",
    "\n",
    "def powerlaw(x, lo, hi, slope):\n",
    "    \n",
    "    shape = x**slope\n",
    "    norm = (slope + 1) / (hi**(slope + 1) - lo**(slope + 1))\n",
    "    cut = (lo < x) * (x < hi)\n",
    "    \n",
    "    return shape * norm * cut\n",
    "\n",
    "def mass_model(m1, q, m_min, m_max, m_slope, q_slope):\n",
    "    \n",
    "    p_m1 = powerlaw(m1, m_min, m_max, m_slope)\n",
    "    p_q = powerlaw(q, m_min/m1, 1, q_slope)\n",
    "    \n",
    "    return p_m1 * p_q"
   ]
  },
  {
   "cell_type": "code",
   "execution_count": 174,
   "id": "4fb63c55-93cd-499d-b771-3f7114e917a3",
   "metadata": {
    "tags": []
   },
   "outputs": [],
   "source": [
    "# redshift p(z) ~ dV/dz / (1+z)\n",
    "# We assume the redshift model equals the cosmological PE prior\n",
    "# However, we do not know the normalization, i.e., the maximum redshift\n",
    "# This won't matter for relative Bayes factors\n",
    "\n",
    "class PowerlawRedshift:\n",
    "\n",
    "    def __init__(self, z_min=0, z_max=1.9, z_pow=0):\n",
    "\n",
    "        self.z_min = z_min\n",
    "        self.z_max = z_max\n",
    "        self.z_pow = z_pow\n",
    "        \n",
    "        # We interpolate dV/dz to speed it up\n",
    "        zs = np.linspace(z_min, z_max, 1000)\n",
    "        self.dVdz = interp1d(\n",
    "            zs, Planck15.differential_comoving_volume(zs).value,\n",
    "            )\n",
    "        self.norm = quad(self.model, z_min, z_max)[0]\n",
    "\n",
    "    def model(self, z):\n",
    "        \n",
    "        return self.dVdz(z) * (1 + z)**(self.z_pow - 1)\n",
    "\n",
    "    def prob(self, z):\n",
    "\n",
    "        return (self.z_min < z) * (z < self.z_max) * self.model(z) / self.norm\n",
    "\n",
    "# Uniform volumetric merger rate in the source frame\n",
    "redshift_model = PowerlawRedshift().prob"
   ]
  },
  {
   "cell_type": "markdown",
   "id": "92ee95d9-bf59-4622-95d3-ceebd4747133",
   "metadata": {},
   "source": [
    "## GW150914 parameter estimation samples"
   ]
  },
  {
   "cell_type": "code",
   "execution_count": 149,
   "id": "20d3a0c7-ce77-4323-963f-c3824e776a07",
   "metadata": {
    "tags": []
   },
   "outputs": [
    {
     "name": "stdout",
     "output_type": "stream",
     "text": [
      "[b\"PowerLaw(alpha=2, minimum=10, maximum=10000, name='luminosity_distance', latex_label='$d_L$', unit='Mpc', boundary=None)\"]\n"
     ]
    }
   ],
   "source": [
    "# The posterior samples have been reweighted to a cosmological distance prior\n",
    "file = './data/IGWN-GWTC2p1-v2-GW150914_095045_PEDataRelease_mixed_cosmo.h5'\n",
    "with h5py.File(file, 'r') as h:\n",
    "    \n",
    "    pos = h['C01:IMRPhenomXPHM']['posterior_samples']\n",
    "    m1 = pos['mass_1_source']\n",
    "    q = pos['mass_ratio']\n",
    "    m1z = pos['mass_1']\n",
    "    m2z = pos['mass_2']\n",
    "    z = pos['redshift'][:]\n",
    "    \n",
    "    pri = h['C01:IMRPhenomXPHM']['priors']['samples']\n",
    "    m1z_pri = pri['mass_1'][:]\n",
    "    m2z_pri = pri['mass_2'][:]\n",
    "    \n",
    "    # The prior samples do not use the cosmological distance prior...\n",
    "    print(h['C01:IMRPhenomXPHM']['priors']['analytic']['luminosity_distance'][:])"
   ]
  },
  {
   "cell_type": "code",
   "execution_count": 150,
   "id": "a138abd2-c59f-4418-b5f9-634921907939",
   "metadata": {
    "tags": []
   },
   "outputs": [
    {
     "name": "stdout",
     "output_type": "stream",
     "text": [
      "(147634,)\n",
      "(5000,)\n"
     ]
    }
   ],
   "source": [
    "print(m1z.shape)\n",
    "print(m1z_pri.shape)"
   ]
  },
  {
   "cell_type": "code",
   "execution_count": 151,
   "id": "d937366b-c4af-4042-a858-3f5b74515f03",
   "metadata": {
    "tags": []
   },
   "outputs": [
    {
     "data": {
      "image/png": "[encoded data removed]",
      "text/plain": [
       "<Figure size 432x288 with 1 Axes>"
      ]
     },
     "metadata": {
      "needs_background": "light"
     },
     "output_type": "display_data"
    }
   ],
   "source": [
    "# The m1--q posterior\n",
    "\n",
    "plt.scatter(m1, q, s=1)\n",
    "plt.xlabel('m1')\n",
    "plt.ylabel('q')\n",
    "plt.title('Posterior');"
   ]
  },
  {
   "cell_type": "code",
   "execution_count": 152,
   "id": "bbb0548d-b832-4765-a371-f4b74053c047",
   "metadata": {
    "tags": []
   },
   "outputs": [
    {
     "data": {
      "image/png": "[encoded data removed]",
      "text/plain": [
       "<Figure size 432x288 with 1 Axes>"
      ]
     },
     "metadata": {
      "needs_background": "light"
     },
     "output_type": "display_data"
    }
   ],
   "source": [
    "# The detector-frame m1--m2 posterior\n",
    "\n",
    "plt.scatter(m1z, m2z, s=1)\n",
    "plt.xlabel('m1z')\n",
    "plt.ylabel('m2z')\n",
    "plt.title('Posterior');"
   ]
  },
  {
   "cell_type": "code",
   "execution_count": 153,
   "id": "d8071721-7e6c-49c3-b01a-09d0993398f2",
   "metadata": {
    "tags": []
   },
   "outputs": [
    {
     "data": {
      "image/png": "[encoded data removed]",
      "text/plain": [
       "<Figure size 432x288 with 1 Axes>"
      ]
     },
     "metadata": {
      "needs_background": "light"
     },
     "output_type": "display_data"
    }
   ],
   "source": [
    "# The detector-frame m1--m2 prior\n",
    "# As we can see, there are mass cuts in the (detector-frame) prior\n",
    "\n",
    "plt.scatter(m1z_pri, m2z_pri, s=1)\n",
    "plt.xlabel('m1z')\n",
    "plt.ylabel('m2z')\n",
    "plt.title('Prior');"
   ]
  },
  {
   "cell_type": "code",
   "execution_count": 171,
   "id": "ccca4a43-611a-4ea9-9e9f-e562016f1c44",
   "metadata": {
    "tags": []
   },
   "outputs": [],
   "source": [
    "# The Jacobian for (m1z, m2z, z) -> (m1, q, z) is m1(1+z)^2\n",
    "# The prior p(m1z, m2z) is flat inside the cuts\n",
    "# We assume a redshift model equal to the PE prior so it cancels\n",
    "\n",
    "# We don't need the prior normalization when comparing two models as it cancels\n",
    "# But we do need it if we just compare one model to the PE prior\n",
    "# The Jacobian gives us the shape over the transformed PE prior\n",
    "\n",
    "pri_at_pos_jacobian = m1 * (1 + z)**2\n",
    "\n",
    "pri_at_pos_nonorm = lambda x: pri_at_pos_jacobian"
   ]
  },
  {
   "cell_type": "code",
   "execution_count": 175,
   "id": "e0149452-05f2-49e6-9fdf-21caed3f366a",
   "metadata": {
    "tags": []
   },
   "outputs": [],
   "source": [
    "# We can also estimate the normalized prior with a KDE fit to prior samples\n",
    "# We will include mass and redshift here, unlike above\n",
    "\n",
    "# This will take a few seconds because KDE and dV/dz evaluations are slow\n",
    "pri_at_pos_kde_ = (\n",
    "    KDE([m1z_pri, m2z_pri]).pdf([m1z, m2z]) *\n",
    "    redshift_model(z) *\n",
    "    pri_at_pos_jacobian\n",
    "    )\n",
    "\n",
    "pri_at_pos_kde = lambda x: pri_at_pos_kde_"
   ]
  },
  {
   "cell_type": "markdown",
   "id": "34a8b022-2c68-4aad-9b6d-9b304d91d38a",
   "metadata": {},
   "source": [
    "## Without selection effects"
   ]
  },
  {
   "cell_type": "code",
   "execution_count": 176,
   "id": "8963c8d1-80cc-48bb-9559-aefc6da86ac8",
   "metadata": {
    "tags": []
   },
   "outputs": [],
   "source": [
    "# First let's use the unnormalized PE prior\n",
    "\n",
    "# Define the astrophysical model\n",
    "modelA = lambda x: mass_model(*x, m_min=5, m_max=50, m_slope=-2, q_slope=1)\n",
    "\n",
    "# And a second one\n",
    "modelB = lambda x: mass_model(*x, m_min=2, m_max=40, m_slope=-3, q_slope=0)"
   ]
  },
  {
   "cell_type": "code",
   "execution_count": 177,
   "id": "b0d60fb5-8e08-43df-81e2-7044789ce0c5",
   "metadata": {
    "tags": []
   },
   "outputs": [
    {
     "name": "stdout",
     "output_type": "stream",
     "text": [
      "log BF_{A/PE} = -8.576104358365143\n",
      "log BF_{A/B} = 3.6935810829298408\n"
     ]
    },
    {
     "name": "stderr",
     "output_type": "stream",
     "text": [
      "/home/ADF/mdm988/matt/code/popodds/popodds/__init__.py:215: RuntimeWarning: divide by zero encountered in log\n",
      "  model = np.log(model)\n"
     ]
    }
   ],
   "source": [
    "# Bayes factor between modelA and PE prior\n",
    "# Incorrect! Because the PE prior is not normalized:\n",
    "\n",
    "log_bf_nonorm = popodds.log_odds(modelA, prior_nonorm, [m1, q], log=False)\n",
    "print('log BF_{A/PE} =', log_bf_nonorm)\n",
    "\n",
    "# Bayes factor between modelA and modelB\n",
    "# Note that the PE prior still enters the individal Bayes factors\n",
    "# This is fine though, because the PE prior normalization cancels:\n",
    "\n",
    "log_bfAB_nonorm = popodds.log_odds(\n",
    "    modelA, prior_nonorm, [m1, q], log=False, second_model=modelB,\n",
    "    )\n",
    "print('log BF_{A/B} =', log_bfAB_nonorm)"
   ]
  },
  {
   "cell_type": "code",
   "execution_count": 178,
   "id": "c0e47007-5977-4e49-b883-e33230f41d0a",
   "metadata": {
    "tags": []
   },
   "outputs": [],
   "source": [
    "# Now let's use the normalized PE prior\n",
    "# Since we included the redshift PE prior in pri_at_pos_kde,\n",
    "# we must also include it in the population model\n",
    "\n",
    "def modelA(x):\n",
    "    \n",
    "    m1, q, z = x\n",
    "    p_m = mass_model(m1, q, m_min=5, m_max=50, m_slope=-2, q_slope=1)\n",
    "    p_z = redshift_model(z)\n",
    "    \n",
    "    return p_m * p_z\n",
    "\n",
    "def modelB(x):\n",
    "    \n",
    "    m1, q, z = x\n",
    "    p_m = mass_model(m1, q, m_min=2, m_max=40, m_slope=-3, q_slope=0)\n",
    "    p_z = redshift_model(z)\n",
    "    \n",
    "    return p_m * p_z"
   ]
  },
  {
   "cell_type": "code",
   "execution_count": 182,
   "id": "b5c737b9-1f88-4197-8224-0e401b718041",
   "metadata": {
    "tags": []
   },
   "outputs": [
    {
     "name": "stdout",
     "output_type": "stream",
     "text": [
      "log BF_{A/PE} = -0.12239871657604695\n",
      "log BF_{A/B} = 3.7013097795164622 cf. 3.6935810829298408\n"
     ]
    }
   ],
   "source": [
    "# Bayes factor between modelA and PE prior\n",
    "# Now using the correctly normalized PE prior\n",
    "\n",
    "log_bf_kde = popodds.log_odds(modelA, prior_kde, [m1, q, z], log=False)\n",
    "print('log BF_{A/PE} =', log_bf_kde)\n",
    "\n",
    "# Bayes factor between modelA and modelB\n",
    "# This should be similar to log_bfAB_nonorm, up to errors from the KDE\n",
    "\n",
    "log_bfAB_kde = popodds.log_odds(\n",
    "    modelA, prior_kde, [m1, q, z], log=False, second_model=modelB,\n",
    "    )\n",
    "print('log BF_{A/B} =', log_bfAB_kde, 'cf.', log_bfAB_nonorm)"
   ]
  },
  {
   "cell_type": "markdown",
   "id": "6ef2f138-65df-4ec4-80ed-3c6e79324bdf",
   "metadata": {},
   "source": [
    "## With selection effects"
   ]
  },
  {
   "cell_type": "code",
   "execution_count": 185,
   "id": "eb0f597b-5b5a-4f55-9f9e-8732f4ab96db",
   "metadata": {
    "tags": []
   },
   "outputs": [],
   "source": [
    "# We compute population detection fractions by reweighting recovered injections\n",
    "# First let's grab the recovered p(det|theta)=1 injections\n",
    "\n",
    "cut_far = 1\n",
    "cut_snr = 12\n",
    "\n",
    "file = './data/o1+o2+o3_bbhpop_real+semianalytic-LIGO-T2100377-v2.hdf5'\n",
    "with h5py.File(file, 'r') as h:\n",
    "    \n",
    "    # Actually, we don't need to know the total (detectable + not detectable)\n",
    "    # number of injections, becaues it cancels\n",
    "    # n_total = h.attrs['total_generated']\n",
    "    \n",
    "    d = h['injections']\n",
    "    \n",
    "    ifars = np.max([d[par][:] for par in d if 'ifar' in par], axis=0)\n",
    "    snrs = d['optimal_snr_net'][:]\n",
    "    obs_runs = d['name'][:].astype(str)\n",
    "    found = np.where(obs_runs == 'o3', ifars > 1/cut_far, snrs > cut_snr)\n",
    "    \n",
    "    m1_found = d['mass1_source'][:][found]\n",
    "    m2_found = d['mass2_source'][:][found]\n",
    "    s1x_found = d['spin1x'][:][found]\n",
    "    s1y_found = d['spin1y'][:][found]\n",
    "    s1z_found = d['spin1z'][:][found]\n",
    "    s2x_found = d['spin2x'][:][found]\n",
    "    s2y_found = d['spin2y'][:][found]\n",
    "    s2z_found = d['spin2z'][:][found]\n",
    "    z_found = d['redshift'][:][found]\n",
    "        \n",
    "    # See https://zenodo.org/record/5546676 for the injection distribution\n",
    "    # sampling_pdf is the injected p(m1, m2) p(s1x, s1y, s1z) p(s2x, s2y, s2z) p(z)\n",
    "    prior_found = d['sampling_pdf'][:][found]"
   ]
  },
  {
   "cell_type": "code",
   "execution_count": 186,
   "id": "1cfb25bf-491a-4ced-954b-c31a0436d4d6",
   "metadata": {
    "tags": []
   },
   "outputs": [],
   "source": [
    "# joint source-frame primary mass and mass ratio\n",
    "\n",
    "pow_mass1 = -2.35\n",
    "min_mass1 = 2\n",
    "max_mass1 = 100\n",
    "min_mass2 = 2\n",
    "pow_mass2 = 1\n",
    "\n",
    "def prior_inj_m(m1, m2):\n",
    "    \n",
    "    return (\n",
    "        powerlaw(m1, min_mass1, max_mass1, pow_mass1) *\n",
    "        powerlaw(m2, min_mass2, m1, pow_mass2)\n",
    "        )"
   ]
  },
  {
   "cell_type": "code",
   "execution_count": 187,
   "id": "988469b5-ef31-4ca6-8cab-65789eb618f3",
   "metadata": {
    "tags": []
   },
   "outputs": [],
   "source": [
    "# cartesian spin\n",
    "\n",
    "max_spin1 = 0.998\n",
    "max_spin2 = 0.998\n",
    "\n",
    "def prior_inj_s(sx, sy, sz, max_spin):\n",
    "    \n",
    "    ssq = sx**2 + sy**2 + sz**2\n",
    "    \n",
    "    return (ssq <= max_spin**2) / 4 / np.pi / ssq / max_spin\n",
    "\n",
    "prior_inj_s1 = lambda *v: p_s(*v, max_spin1)\n",
    "prior_inj_s2 = lambda *v: p_s(*v, max_spin2)"
   ]
  },
  {
   "cell_type": "code",
   "execution_count": 188,
   "id": "c4b4b30b-b189-49dd-b91a-46bc7e5b0847",
   "metadata": {
    "tags": []
   },
   "outputs": [],
   "source": [
    "# redshift p(z) ~ dV/dz * (1+z)^(z_pow-1)\n",
    "\n",
    "prior_inj_z = PowerlawRedshift(z_max=1.9, z_pow=1).prob"
   ]
  },
  {
   "cell_type": "code",
   "execution_count": 189,
   "id": "1b1dc3e4-6407-4447-b737-a6a9a6750854",
   "metadata": {
    "tags": []
   },
   "outputs": [],
   "source": [
    "# Let's check the injection distributions\n",
    "# see https://zenodo.org/record/5546676\n",
    "\n",
    "my_prior_found = (\n",
    "    p_m(m1_found, m2_found) *\n",
    "    p_s1(s1x_found, s1y_found, s1z_found) *\n",
    "    p_s2(s2x_found, s2y_found, s2z_found) *\n",
    "    p_z(z_found)\n",
    "    )"
   ]
  },
  {
   "cell_type": "code",
   "execution_count": 192,
   "id": "db5b3c5d-56cd-482a-b0c5-b61314c9f495",
   "metadata": {
    "tags": []
   },
   "outputs": [
    {
     "data": {
      "image/png": "[encoded data removed]",
      "text/plain": [
       "<Figure size 432x288 with 1 Axes>"
      ]
     },
     "metadata": {
      "needs_background": "light"
     },
     "output_type": "display_data"
    }
   ],
   "source": [
    "# The last ~5000 recovered injections have incorrect PDFs in the public data...\n",
    "# And there's a few dodgy points in between\n",
    "\n",
    "plt.plot(my_prior_found / prior_found);"
   ]
  },
  {
   "cell_type": "code",
   "execution_count": 195,
   "id": "1ae7f112-df5f-482c-82dc-129acd92586f",
   "metadata": {
    "tags": []
   },
   "outputs": [
    {
     "name": "stdout",
     "output_type": "stream",
     "text": [
      "2.982684110794755\n"
     ]
    }
   ],
   "source": [
    "# Also note that although the documentation says z_max=1\n",
    "# (see https://zenodo.org/record/5546676),\n",
    "# there is an injected redshift > z_max...\n",
    "\n",
    "print(z_found.max())\n",
    "\n",
    "# So let's exclude that point\n",
    "\n",
    "m1_found = m1_found[z_found < z_max]\n",
    "m2_found = m2_found[z_found < z_max]\n",
    "z_found = z_found[z_found < z_max]"
   ]
  },
  {
   "cell_type": "code",
   "execution_count": 196,
   "id": "188b812c-c46e-4b57-9394-ada422a93ace",
   "metadata": {
    "tags": []
   },
   "outputs": [],
   "source": [
    "# To include selection effects we define a dictionary as follows\n",
    "\n",
    "q_found = m2_found / m1_found\n",
    "\n",
    "mass_jacobian = m1_found\n",
    "\n",
    "detectable = dict(\n",
    "    samples=[m1_found, q_found, z_found],\n",
    "    prior=prior_inj_m(m1_found, m2_found) * mass_jacobian * prior_inj_z(z_found),\n",
    "    )"
   ]
  },
  {
   "cell_type": "code",
   "execution_count": 199,
   "id": "d6c7ddbb-8fef-442a-8392-e9e148acc498",
   "metadata": {
    "tags": []
   },
   "outputs": [
    {
     "data": {
      "text/plain": [
       "(array([17.39769745, 27.59049225, 34.87878799, ..., 39.44332118,\n",
       "        51.90734739, 35.8333281 ]),\n",
       " array([0.78795855, 0.86417484, 0.85202945, ..., 0.75690546, 0.99145702,\n",
       "        0.677695  ]),\n",
       " array([0.19250949, 0.3339659 , 0.98206556, ..., 0.41346643, 0.12487546,\n",
       "        0.33013271]))"
      ]
     },
     "execution_count": 199,
     "metadata": {},
     "output_type": "execute_result"
    }
   ],
   "source": [
    "m1, q, z"
   ]
  },
  {
   "cell_type": "code",
   "execution_count": 200,
   "id": "ab12d0d7-d90b-4c4d-b782-90c65eb1d431",
   "metadata": {
    "tags": []
   },
   "outputs": [
    {
     "ename": "ValueError",
     "evalue": "not enough values to unpack (expected 3, got 1)",
     "output_type": "error",
     "traceback": [
      "\u001b[0;31m---------------------------------------------------------------------------\u001b[0m",
      "\u001b[0;31mValueError\u001b[0m                                Traceback (most recent call last)",
      "Input \u001b[0;32mIn [200]\u001b[0m, in \u001b[0;36m<cell line: 3>\u001b[0;34m()\u001b[0m\n\u001b[1;32m      1\u001b[0m \u001b[38;5;66;03m# Now compute the detection-conditioned Bayes factor between A and B\u001b[39;00m\n\u001b[0;32m----> 3\u001b[0m log_bfABdet_kde \u001b[38;5;241m=\u001b[39m \u001b[43mpopodds\u001b[49m\u001b[38;5;241;43m.\u001b[39;49m\u001b[43mlog_odds\u001b[49m\u001b[43m(\u001b[49m\n\u001b[1;32m      4\u001b[0m \u001b[43m    \u001b[49m\u001b[43mmodelA\u001b[49m\u001b[43m,\u001b[49m\u001b[43m \u001b[49m\u001b[43mprior_kde\u001b[49m\u001b[43m,\u001b[49m\u001b[43m \u001b[49m\u001b[43m[\u001b[49m\u001b[43mm1\u001b[49m\u001b[43m,\u001b[49m\u001b[43m \u001b[49m\u001b[43mq\u001b[49m\u001b[43m,\u001b[49m\u001b[43m \u001b[49m\u001b[43mz\u001b[49m\u001b[43m]\u001b[49m\u001b[43m,\u001b[49m\u001b[43m \u001b[49m\u001b[43mlog\u001b[49m\u001b[38;5;241;43m=\u001b[39;49m\u001b[38;5;28;43;01mFalse\u001b[39;49;00m\u001b[43m,\u001b[49m\u001b[43m \u001b[49m\u001b[43msecond_model\u001b[49m\u001b[38;5;241;43m=\u001b[39;49m\u001b[43mmodelB\u001b[49m\u001b[43m,\u001b[49m\n\u001b[1;32m      5\u001b[0m \u001b[43m    \u001b[49m\u001b[43mdetectable\u001b[49m\u001b[38;5;241;43m=\u001b[39;49m\u001b[43mdetectable\u001b[49m\u001b[43m,\u001b[49m\n\u001b[1;32m      6\u001b[0m \u001b[43m    \u001b[49m\u001b[43m)\u001b[49m\n\u001b[1;32m      7\u001b[0m \u001b[38;5;28mprint\u001b[39m(\u001b[38;5;124m'\u001b[39m\u001b[38;5;124mlog BF_\u001b[39m\u001b[38;5;124m{\u001b[39m\u001b[38;5;124mA/B}_det =\u001b[39m\u001b[38;5;124m'\u001b[39m, log_bfABdet_kde)\n",
      "File \u001b[0;32m~/matt/code/popodds/popodds/__init__.py:96\u001b[0m, in \u001b[0;36mlog_odds\u001b[0;34m(model, prior, samples, model_bounds, prior_bounds, log, prior_odds, second_model, second_bounds, detectable)\u001b[0m\n\u001b[1;32m     18\u001b[0m \u001b[38;5;124;03m\"\"\"log posterior odds between model and prior or between two models.\u001b[39;00m\n\u001b[1;32m     19\u001b[0m \n\u001b[1;32m     20\u001b[0m \u001b[38;5;124;03mArguments\u001b[39;00m\n\u001b[0;32m   (...)\u001b[0m\n\u001b[1;32m     90\u001b[0m \u001b[38;5;124;03m    log Bayes factor (or log posterior odds if prior_odds != 1)\u001b[39;00m\n\u001b[1;32m     91\u001b[0m \u001b[38;5;124;03m\"\"\"\u001b[39;00m\n\u001b[1;32m     93\u001b[0m mc \u001b[38;5;241m=\u001b[39m ModelComparison(\n\u001b[1;32m     94\u001b[0m     model, prior, samples, model_bounds, prior_bounds, log,\n\u001b[1;32m     95\u001b[0m     )\n\u001b[0;32m---> 96\u001b[0m log_bayes_factor \u001b[38;5;241m=\u001b[39m \u001b[43mmc\u001b[49m\u001b[43m(\u001b[49m\u001b[43m)\u001b[49m\n\u001b[1;32m     98\u001b[0m \u001b[38;5;28;01mif\u001b[39;00m second_model \u001b[38;5;129;01mis\u001b[39;00m \u001b[38;5;129;01mnot\u001b[39;00m \u001b[38;5;28;01mNone\u001b[39;00m:\n\u001b[1;32m     99\u001b[0m     second_mc \u001b[38;5;241m=\u001b[39m ModelComparison(\n\u001b[1;32m    100\u001b[0m         second_model, prior, samples, second_bounds, prior_bounds, log,\n\u001b[1;32m    101\u001b[0m         )\n",
      "File \u001b[0;32m~/matt/code/popodds/popodds/__init__.py:202\u001b[0m, in \u001b[0;36mModelComparison.__call__\u001b[0;34m(self)\u001b[0m\n\u001b[1;32m    200\u001b[0m \u001b[38;5;28;01mdef\u001b[39;00m \u001b[38;5;21m__call__\u001b[39m(\u001b[38;5;28mself\u001b[39m):\n\u001b[0;32m--> 202\u001b[0m     \u001b[38;5;28;01mreturn\u001b[39;00m \u001b[38;5;28;43mself\u001b[39;49m\u001b[38;5;241;43m.\u001b[39;49m\u001b[43mlog_bayes_factor\u001b[49m\u001b[43m(\u001b[49m\u001b[43m)\u001b[49m\n",
      "File \u001b[0;32m~/matt/code/popodds/popodds/__init__.py:211\u001b[0m, in \u001b[0;36mModelComparison.log_bayes_factor\u001b[0;34m(self)\u001b[0m\n\u001b[1;32m    208\u001b[0m \u001b[38;5;28;01mdef\u001b[39;00m \u001b[38;5;21mlog_bayes_factor\u001b[39m(\u001b[38;5;28mself\u001b[39m):\n\u001b[1;32m    210\u001b[0m     \u001b[38;5;28;01mif\u001b[39;00m \u001b[38;5;28mself\u001b[39m\u001b[38;5;241m.\u001b[39mcache \u001b[38;5;129;01mis\u001b[39;00m \u001b[38;5;28;01mNone\u001b[39;00m:\n\u001b[0;32m--> 211\u001b[0m         model \u001b[38;5;241m=\u001b[39m \u001b[38;5;28;43mself\u001b[39;49m\u001b[38;5;241;43m.\u001b[39;49m\u001b[43mmodel\u001b[49m\u001b[43m(\u001b[49m\u001b[38;5;28;43mself\u001b[39;49m\u001b[38;5;241;43m.\u001b[39;49m\u001b[43msamples\u001b[49m\u001b[43m)\u001b[49m\n\u001b[1;32m    212\u001b[0m         prior \u001b[38;5;241m=\u001b[39m \u001b[38;5;28mself\u001b[39m\u001b[38;5;241m.\u001b[39mprior(\u001b[38;5;28mself\u001b[39m\u001b[38;5;241m.\u001b[39msamples)\n\u001b[1;32m    214\u001b[0m         \u001b[38;5;28;01mif\u001b[39;00m \u001b[38;5;129;01mnot\u001b[39;00m \u001b[38;5;28mself\u001b[39m\u001b[38;5;241m.\u001b[39mlog:\n",
      "Input \u001b[0;32mIn [178]\u001b[0m, in \u001b[0;36mmodelA\u001b[0;34m(x)\u001b[0m\n\u001b[1;32m      5\u001b[0m \u001b[38;5;28;01mdef\u001b[39;00m \u001b[38;5;21mmodelA\u001b[39m(x):\n\u001b[0;32m----> 7\u001b[0m     m1, q, z \u001b[38;5;241m=\u001b[39m x\n\u001b[1;32m      8\u001b[0m     p_m \u001b[38;5;241m=\u001b[39m mass_model(m1, q, m_min\u001b[38;5;241m=\u001b[39m\u001b[38;5;241m5\u001b[39m, m_max\u001b[38;5;241m=\u001b[39m\u001b[38;5;241m50\u001b[39m, m_slope\u001b[38;5;241m=\u001b[39m\u001b[38;5;241m-\u001b[39m\u001b[38;5;241m2\u001b[39m, q_slope\u001b[38;5;241m=\u001b[39m\u001b[38;5;241m1\u001b[39m)\n\u001b[1;32m      9\u001b[0m     p_z \u001b[38;5;241m=\u001b[39m redshift_model(z)\n",
      "\u001b[0;31mValueError\u001b[0m: not enough values to unpack (expected 3, got 1)"
     ]
    }
   ],
   "source": [
    "# Now compute the detection-conditioned Bayes factor between A and B\n",
    "\n",
    "log_bfABdet_kde = popodds.log_odds(\n",
    "    modelA, prior_kde, [m1, q, z], log=False, second_model=modelB,\n",
    "    detectable=detectable,\n",
    "    )\n",
    "print('log BF_{A/B}_det =', log_bfABdet_kde)"
   ]
  },
  {
   "cell_type": "code",
   "execution_count": null,
   "id": "bf06c072-892f-4bad-a222-d7509d778758",
   "metadata": {},
   "outputs": [],
   "source": []
  }
 ],
 "metadata": {
  "kernelspec": {
   "display_name": "popodds",
   "language": "python",
   "name": "popodds"
  },
  "language_info": {
   "codemirror_mode": {
    "name": "ipython",
    "version": 3
   },
   "file_extension": ".py",
   "mimetype": "text/x-python",
   "name": "python",
   "nbconvert_exporter": "python",
   "pygments_lexer": "ipython3",
   "version": "3.9.13"
  }
 },
 "nbformat": 4,
 "nbformat_minor": 5
}
