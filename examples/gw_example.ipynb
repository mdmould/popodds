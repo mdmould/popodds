{
 "cells": [
  {
   "cell_type": "markdown",
   "id": "af402886-bff9-4a25-b5cb-66fb1d647a37",
   "metadata": {},
   "source": [
    "## Download the data from GWOSC"
   ]
  },
  {
   "cell_type": "code",
   "execution_count": null,
   "id": "5ff94e92-5231-417e-912d-80e6dd57e45d",
   "metadata": {
    "scrolled": true,
    "tags": []
   },
   "outputs": [],
   "source": [
    "import os\n",
    "\n",
    "for url in (\n",
    "    'https://zenodo.org/record/6513631/files/IGWN-GWTC2p1-v2-GW150914_095045_PEDataRelease_mixed_cosmo.h5',\n",
    "    'https://zenodo.org/record/5636816/files/o1%2Bo2%2Bo3_bbhpop_real%2Bsemianalytic-LIGO-T2100377-v2.hdf5',\n",
    "    ):\n",
    "    file = url.split('files/')[1].replace('%2B', '+')\n",
    "    if not os.path.exists('./data/' + file):\n",
    "        os.system(f'wget -P ./data/ {url}')"
   ]
  },
  {
   "cell_type": "markdown",
   "id": "98589646-77e8-45f8-8dc0-58a55e52110b",
   "metadata": {},
   "source": [
    "## Install popodds"
   ]
  },
  {
   "cell_type": "code",
   "execution_count": null,
   "id": "174793bb-3185-4d60-891d-6e95dd5281b1",
   "metadata": {
    "tags": []
   },
   "outputs": [],
   "source": [
    "!pip install -U popodds"
   ]
  },
  {
   "cell_type": "code",
   "execution_count": null,
   "id": "61cdff6a-3c9a-4139-b14e-9ccf616c91dd",
   "metadata": {
    "tags": []
   },
   "outputs": [],
   "source": [
    "import os\n",
    "import numpy as np\n",
    "import h5py\n",
    "from astropy.cosmology import Planck15\n",
    "from scipy.interpolate import interp1d\n",
    "from scipy.integrate import quad\n",
    "import matplotlib.pyplot as plt\n",
    "from kaydee import KDE\n",
    "import popodds"
   ]
  },
  {
   "cell_type": "markdown",
   "id": "19a3c007-3992-4a86-81ec-ab2b7b5a52fe",
   "metadata": {},
   "source": [
    "## Population model"
   ]
  },
  {
   "cell_type": "code",
   "execution_count": null,
   "id": "adfe66f9-c2e6-4802-af58-44a2b7cb7244",
   "metadata": {
    "tags": []
   },
   "outputs": [],
   "source": [
    "# We take power laws in m1 and q\n",
    "# We assume the rest of the model matches the PE prior\n",
    "# E.g., uniform spin mags, isotropic spin angles, etc.\n",
    "# Thus those parts of the model cancel the PE prior in the Bayes factor\n",
    "\n",
    "def powerlaw(x, lo, hi, slope):\n",
    "    \n",
    "    shape = x**slope\n",
    "    norm = (slope + 1) / (hi**(slope + 1) - lo**(slope + 1))\n",
    "    cut = (lo < x) * (x < hi)\n",
    "    \n",
    "    return shape * norm * cut\n",
    "\n",
    "def mass_model(m1, q, m_min, m_max, m_slope, q_slope):\n",
    "    \n",
    "    p_m1 = powerlaw(m1, m_min, m_max, m_slope)\n",
    "    p_q = powerlaw(q, m_min/m1, 1, q_slope)\n",
    "    \n",
    "    return p_m1 * p_q"
   ]
  },
  {
   "cell_type": "code",
   "execution_count": null,
   "id": "4fb63c55-93cd-499d-b771-3f7114e917a3",
   "metadata": {
    "tags": []
   },
   "outputs": [],
   "source": [
    "# redshift p(z) ~ dV/dz / (1+z)\n",
    "# We assume the redshift model equals the cosmological PE prior\n",
    "# However, we do not know the normalization, i.e., the maximum redshift\n",
    "# This won't matter for relative Bayes factors\n",
    "\n",
    "class PowerlawRedshift:\n",
    "\n",
    "    def __init__(self, z_min=0, z_max=1.9, z_pow=0):\n",
    "\n",
    "        self.z_min = z_min\n",
    "        self.z_max = z_max\n",
    "        self.z_pow = z_pow\n",
    "        \n",
    "        # We interpolate dV/dz to speed it up\n",
    "        zs = np.linspace(z_min, z_max, 1000)\n",
    "        self.dVdz = interp1d(\n",
    "            zs, Planck15.differential_comoving_volume(zs).value,\n",
    "            )\n",
    "        self.norm = quad(self.model, z_min, z_max)[0]\n",
    "\n",
    "    def model(self, z):\n",
    "        \n",
    "        return self.dVdz(z) * (1 + z)**(self.z_pow - 1)\n",
    "\n",
    "    def prob(self, z):\n",
    "\n",
    "        return (self.z_min < z) * (z < self.z_max) * self.model(z) / self.norm\n",
    "\n",
    "# Uniform volumetric merger rate in the source frame\n",
    "redshift_model = PowerlawRedshift().prob"
   ]
  },
  {
   "cell_type": "markdown",
   "id": "92ee95d9-bf59-4622-95d3-ceebd4747133",
   "metadata": {},
   "source": [
    "## GW150914 parameter estimation samples"
   ]
  },
  {
   "cell_type": "code",
   "execution_count": null,
   "id": "20d3a0c7-ce77-4323-963f-c3824e776a07",
   "metadata": {
    "tags": []
   },
   "outputs": [],
   "source": [
    "# The posterior samples have been reweighted to a cosmological distance prior\n",
    "file = './data/IGWN-GWTC2p1-v2-GW150914_095045_PEDataRelease_mixed_cosmo.h5'\n",
    "with h5py.File(file, 'r') as h:\n",
    "    \n",
    "    pos = h['C01:IMRPhenomXPHM']['posterior_samples']\n",
    "    m1 = pos['mass_1_source']\n",
    "    q = pos['mass_ratio']\n",
    "    m1z = pos['mass_1']\n",
    "    m2z = pos['mass_2']\n",
    "    z = pos['redshift'][:]\n",
    "    \n",
    "    pri = h['C01:IMRPhenomXPHM']['priors']['samples']\n",
    "    m1z_pri = pri['mass_1'][:]\n",
    "    m2z_pri = pri['mass_2'][:]\n",
    "    \n",
    "    # The prior samples do not use the cosmological distance prior...\n",
    "    print(h['C01:IMRPhenomXPHM']['priors']['analytic']['luminosity_distance'][:])"
   ]
  },
  {
   "cell_type": "code",
   "execution_count": null,
   "id": "a138abd2-c59f-4418-b5f9-634921907939",
   "metadata": {
    "tags": []
   },
   "outputs": [],
   "source": [
    "print(m1z.shape)\n",
    "print(m1z_pri.shape)"
   ]
  },
  {
   "cell_type": "code",
   "execution_count": null,
   "id": "d937366b-c4af-4042-a858-3f5b74515f03",
   "metadata": {
    "tags": []
   },
   "outputs": [],
   "source": [
    "# The m1--q posterior\n",
    "\n",
    "plt.scatter(m1, q, s=1)\n",
    "plt.xlabel('m1')\n",
    "plt.ylabel('q')\n",
    "plt.title('Posterior');"
   ]
  },
  {
   "cell_type": "code",
   "execution_count": null,
   "id": "bbb0548d-b832-4765-a371-f4b74053c047",
   "metadata": {
    "tags": []
   },
   "outputs": [],
   "source": [
    "# The detector-frame m1--m2 posterior\n",
    "\n",
    "plt.scatter(m1z, m2z, s=1)\n",
    "plt.xlabel('m1z')\n",
    "plt.ylabel('m2z')\n",
    "plt.title('Posterior');"
   ]
  },
  {
   "cell_type": "code",
   "execution_count": null,
   "id": "d8071721-7e6c-49c3-b01a-09d0993398f2",
   "metadata": {
    "tags": []
   },
   "outputs": [],
   "source": [
    "# The detector-frame m1--m2 prior\n",
    "# As we can see, there are mass cuts in the (detector-frame) prior\n",
    "\n",
    "plt.scatter(m1z_pri, m2z_pri, s=1)\n",
    "plt.xlabel('m1z')\n",
    "plt.ylabel('m2z')\n",
    "plt.title('Prior');"
   ]
  },
  {
   "cell_type": "code",
   "execution_count": null,
   "id": "ccca4a43-611a-4ea9-9e9f-e562016f1c44",
   "metadata": {
    "tags": []
   },
   "outputs": [],
   "source": [
    "# The Jacobian for (m1z, m2z, z) -> (m1, q, z) is m1(1+z)^2\n",
    "# The prior p(m1z, m2z) is flat inside the cuts\n",
    "# We assume a redshift model equal to the PE prior so it cancels\n",
    "\n",
    "# We don't need the prior normalization when comparing two models as it cancels\n",
    "# But we do need it if we just compare one model to the PE prior\n",
    "# The Jacobian gives us the shape over the transformed PE prior\n",
    "\n",
    "def pri_at_pos_jacobian(m1, z):\n",
    "    \n",
    "    return m1 * (1 + z)**2\n",
    "\n",
    "def pri_at_pos_nonorm(x):\n",
    "    \n",
    "    m1, q, z = x\n",
    "    \n",
    "    return pri_at_pos_jacobian(m1, z)"
   ]
  },
  {
   "cell_type": "code",
   "execution_count": null,
   "id": "e0149452-05f2-49e6-9fdf-21caed3f366a",
   "metadata": {
    "tags": []
   },
   "outputs": [],
   "source": [
    "# We can also estimate the normalized prior with a KDE fit to prior samples\n",
    "# We will include mass and redshift here, unlike above\n",
    "\n",
    "# This will take a few seconds because KDE evaluations are slow\n",
    "# The kaydee.KDE pdf and log_pdf methods have a multiprocess option to speed it up\n",
    "# e.g., kaydee.KDE(samples).pdf(points, processes=8)\n",
    "\n",
    "kde = KDE([m1z_pri, m2z_pri])\n",
    "\n",
    "def pri_at_pos_kde(x):\n",
    "\n",
    "    m1, q, z = x\n",
    "    m1z = m1 * (1 + z)\n",
    "    m2z = q * m1z\n",
    "\n",
    "    return (\n",
    "        kde.pdf([m1z, m2z]) *\n",
    "        redshift_model(z) *\n",
    "        pri_at_pos_jacobian(m1, z)\n",
    "        )"
   ]
  },
  {
   "cell_type": "markdown",
   "id": "34a8b022-2c68-4aad-9b6d-9b304d91d38a",
   "metadata": {},
   "source": [
    "## Without selection effects"
   ]
  },
  {
   "cell_type": "code",
   "execution_count": null,
   "id": "8963c8d1-80cc-48bb-9559-aefc6da86ac8",
   "metadata": {
    "tags": []
   },
   "outputs": [],
   "source": [
    "# First let's use the unnormalized PE prior\n",
    "\n",
    "# Define the astrophysical model\n",
    "def modelA(x):\n",
    "\n",
    "    m1, q, z = x\n",
    "\n",
    "    return mass_model(m1, q, m_min=5, m_max=50, m_slope=-2, q_slope=1)\n",
    "\n",
    "# And a second one\n",
    "def modelB(x):\n",
    "    \n",
    "    m1, q, z = x\n",
    "    \n",
    "    return mass_model(m1, q, m_min=2, m_max=40, m_slope=-3, q_slope=0)"
   ]
  },
  {
   "cell_type": "code",
   "execution_count": null,
   "id": "b0d60fb5-8e08-43df-81e2-7044789ce0c5",
   "metadata": {
    "tags": []
   },
   "outputs": [],
   "source": [
    "# Bayes factor between modelA and PE prior\n",
    "# Incorrect! Because the PE prior is not normalized:\n",
    "\n",
    "log_bf_nonorm = popodds.log_odds(modelA, pri_at_pos_nonorm, [m1, q, z], log=False)\n",
    "print('log BF_{A/PE} =', log_bf_nonorm)\n",
    "\n",
    "# Bayes factor between modelA and modelB\n",
    "# Note that the PE prior still enters the individal Bayes factors\n",
    "# This is fine though, because the PE prior normalization cancels:\n",
    "\n",
    "log_bfAB_nonorm = popodds.log_odds(\n",
    "    modelA, pri_at_pos_nonorm, [m1, q, z], log=False, second_model=modelB,\n",
    "    )\n",
    "print('log BF_{A/B} =', log_bfAB_nonorm)"
   ]
  },
  {
   "cell_type": "code",
   "execution_count": null,
   "id": "c0e47007-5977-4e49-b883-e33230f41d0a",
   "metadata": {
    "tags": []
   },
   "outputs": [],
   "source": [
    "# Now let's use the normalized PE prior\n",
    "# Since we included the redshift PE prior in pri_at_pos_kde,\n",
    "# we must also include it in the population model\n",
    "\n",
    "def modelA(x):\n",
    "    \n",
    "    m1, q, z = x\n",
    "    \n",
    "    return (\n",
    "        mass_model(m1, q, m_min=5, m_max=50, m_slope=-2, q_slope=1) *\n",
    "        redshift_model(z)\n",
    "        )\n",
    "\n",
    "def modelB(x):\n",
    "    \n",
    "    m1, q, z = x\n",
    "    \n",
    "    return (\n",
    "        mass_model(m1, q, m_min=2, m_max=40, m_slope=-3, q_slope=0) *\n",
    "        redshift_model(z)\n",
    "        )"
   ]
  },
  {
   "cell_type": "code",
   "execution_count": null,
   "id": "b5c737b9-1f88-4197-8224-0e401b718041",
   "metadata": {
    "tags": []
   },
   "outputs": [],
   "source": [
    "# Bayes factor between modelA and PE prior\n",
    "# Now using the correctly normalized PE prior\n",
    "\n",
    "log_bf_kde = popodds.log_odds(modelA, pri_at_pos_kde, [m1, q, z], log=False)\n",
    "print('log BF_{A/PE} =', log_bf_kde)\n",
    "\n",
    "# Bayes factor between modelA and modelB\n",
    "# This should be similar to log_bfAB_nonorm, up to errors from the KDE\n",
    "\n",
    "log_bfAB_kde = popodds.log_odds(\n",
    "    modelA, pri_at_pos_kde, [m1, q, z], log=False, second_model=modelB,\n",
    "    )\n",
    "print('log BF_{A/B} =', log_bfAB_kde, 'cf.', log_bfAB_nonorm)\n",
    "\n",
    "# This is slow because the prior evluations call the KDE\n",
    "# We could evaluate the prior KDE just once instead, e.g.:\n",
    "# kde = (\n",
    "#     KDE([m1z_pri, m2z_pri]).pdf([m1z, m2z]) *\n",
    "#     redshift_model(z) *\n",
    "#     pri_at_pos_jacobian(m1, z)\n",
    "#     )\n",
    "# prior_at_pos_kde = lambda x: kde"
   ]
  },
  {
   "cell_type": "markdown",
   "id": "6ef2f138-65df-4ec4-80ed-3c6e79324bdf",
   "metadata": {},
   "source": [
    "## With selection effects"
   ]
  },
  {
   "cell_type": "code",
   "execution_count": null,
   "id": "eb0f597b-5b5a-4f55-9f9e-8732f4ab96db",
   "metadata": {
    "tags": []
   },
   "outputs": [],
   "source": [
    "# We compute population detection fractions by reweighting recovered injections\n",
    "# First let's grab the recovered p(det|theta)=1 injections\n",
    "\n",
    "cut_far = 1\n",
    "cut_snr = 12\n",
    "\n",
    "file = './data/o1+o2+o3_bbhpop_real+semianalytic-LIGO-T2100377-v2.hdf5'\n",
    "with h5py.File(file, 'r') as h:\n",
    "    \n",
    "    # Actually, we don't need to know the total (detectable + not detectable)\n",
    "    # number of injections, becaues it cancels\n",
    "    # n_total = h.attrs['total_generated']\n",
    "    \n",
    "    d = h['injections']\n",
    "    \n",
    "    ifars = np.max([d[par][:] for par in d if 'ifar' in par], axis=0)\n",
    "    snrs = d['optimal_snr_net'][:]\n",
    "    obs_runs = d['name'][:].astype(str)\n",
    "    found = np.where(obs_runs == 'o3', ifars > 1/cut_far, snrs > cut_snr)\n",
    "    \n",
    "    m1_found = d['mass1_source'][:][found]\n",
    "    m2_found = d['mass2_source'][:][found]\n",
    "    s1x_found = d['spin1x'][:][found]\n",
    "    s1y_found = d['spin1y'][:][found]\n",
    "    s1z_found = d['spin1z'][:][found]\n",
    "    s2x_found = d['spin2x'][:][found]\n",
    "    s2y_found = d['spin2y'][:][found]\n",
    "    s2z_found = d['spin2z'][:][found]\n",
    "    z_found = d['redshift'][:][found]\n",
    "        \n",
    "    # See https://zenodo.org/record/5546676 for the injection distribution\n",
    "    # sampling_pdf is the injected p(m1, m2) p(s1x, s1y, s1z) p(s2x, s2y, s2z) p(z)\n",
    "    prior_found = d['sampling_pdf'][:][found]"
   ]
  },
  {
   "cell_type": "code",
   "execution_count": null,
   "id": "1cfb25bf-491a-4ced-954b-c31a0436d4d6",
   "metadata": {
    "tags": []
   },
   "outputs": [],
   "source": [
    "# joint source-frame primary mass and mass ratio\n",
    "\n",
    "pow_mass1 = -2.35\n",
    "min_mass1 = 2\n",
    "max_mass1 = 100\n",
    "min_mass2 = 2\n",
    "pow_mass2 = 1\n",
    "\n",
    "def prior_inj_m(m1, m2):\n",
    "    \n",
    "    return (\n",
    "        powerlaw(m1, min_mass1, max_mass1, pow_mass1) *\n",
    "        powerlaw(m2, min_mass2, m1, pow_mass2)\n",
    "        )"
   ]
  },
  {
   "cell_type": "code",
   "execution_count": null,
   "id": "988469b5-ef31-4ca6-8cab-65789eb618f3",
   "metadata": {
    "tags": []
   },
   "outputs": [],
   "source": [
    "# cartesian spin\n",
    "\n",
    "max_spin1 = 0.998\n",
    "max_spin2 = 0.998\n",
    "\n",
    "def prior_inj_s(sx, sy, sz, max_spin):\n",
    "    \n",
    "    ssq = sx**2 + sy**2 + sz**2\n",
    "    \n",
    "    return (ssq <= max_spin**2) / 4 / np.pi / ssq / max_spin\n",
    "\n",
    "prior_inj_s1 = lambda *v: prior_inj_s(*v, max_spin1)\n",
    "prior_inj_s2 = lambda *v: prior_inj_s(*v, max_spin2)"
   ]
  },
  {
   "cell_type": "code",
   "execution_count": null,
   "id": "c4b4b30b-b189-49dd-b91a-46bc7e5b0847",
   "metadata": {
    "tags": []
   },
   "outputs": [],
   "source": [
    "# redshift p(z) ~ dV/dz * (1+z)^(z_pow-1)\n",
    "\n",
    "z_max = 1.9\n",
    "z_pow = 1\n",
    "\n",
    "prior_inj_z = PowerlawRedshift(z_max=1.9, z_pow=1).prob"
   ]
  },
  {
   "cell_type": "code",
   "execution_count": null,
   "id": "1ae7f112-df5f-482c-82dc-129acd92586f",
   "metadata": {
    "tags": []
   },
   "outputs": [],
   "source": [
    "# Note that although the documentation says z_max=1.9\n",
    "# (see https://zenodo.org/record/5546676),\n",
    "# there is an injected redshift > z_max...\n",
    "\n",
    "print(z_found.max())\n",
    "\n",
    "# So let's exclude that point\n",
    "\n",
    "cut = z_found < z_max\n",
    "m1_found = m1_found[cut]\n",
    "m2_found = m2_found[cut]\n",
    "s1x_found = s1x_found[cut]\n",
    "s1y_found = s1y_found[cut]\n",
    "s1z_found = s1z_found[cut]\n",
    "s2x_found = s2x_found[cut]\n",
    "s2y_found = s2y_found[cut]\n",
    "s2z_found = s2z_found[cut]\n",
    "z_found = z_found[cut]\n",
    "prior_found = prior_found[cut]"
   ]
  },
  {
   "cell_type": "code",
   "execution_count": null,
   "id": "1b1dc3e4-6407-4447-b737-a6a9a6750854",
   "metadata": {
    "tags": []
   },
   "outputs": [],
   "source": [
    "# Let's check the injection distributions\n",
    "\n",
    "my_prior_found = (\n",
    "    prior_inj_m(m1_found, m2_found) *\n",
    "    prior_inj_s1(s1x_found, s1y_found, s1z_found) *\n",
    "    prior_inj_s2(s2x_found, s2y_found, s2z_found) *\n",
    "    prior_inj_z(z_found)\n",
    "    )"
   ]
  },
  {
   "cell_type": "code",
   "execution_count": null,
   "id": "db5b3c5d-56cd-482a-b0c5-b61314c9f495",
   "metadata": {
    "tags": []
   },
   "outputs": [],
   "source": [
    "# The last ~5000 recovered injections have incorrect PDFs in the public data...\n",
    "\n",
    "plt.plot(my_prior_found / prior_found);"
   ]
  },
  {
   "cell_type": "code",
   "execution_count": null,
   "id": "188b812c-c46e-4b57-9394-ada422a93ace",
   "metadata": {
    "tags": []
   },
   "outputs": [],
   "source": [
    "# To include selection effects we define a dictionary as follows\n",
    "\n",
    "q_found = m2_found / m1_found\n",
    "\n",
    "def prior_inj(x):\n",
    "    \n",
    "    m1, q, z = x\n",
    "    m2 = q * m1\n",
    "    jacobian = m1\n",
    "    \n",
    "    return (\n",
    "        prior_inj_m(m1, m2) *\n",
    "        jacobian *\n",
    "        prior_inj_z(z)\n",
    "        )\n",
    "\n",
    "detectable = dict(\n",
    "    samples=[m1_found, q_found, z_found],\n",
    "    prior=prior_inj\n",
    "    )"
   ]
  },
  {
   "cell_type": "code",
   "execution_count": null,
   "id": "ab12d0d7-d90b-4c4d-b782-90c65eb1d431",
   "metadata": {
    "tags": []
   },
   "outputs": [],
   "source": [
    "# Now compute the detection-conditioned Bayes factor between A and B\n",
    "\n",
    "log_bfABdet_kde = popodds.log_odds(\n",
    "    modelA, pri_at_pos_kde, [m1, q, z], log=False, second_model=modelB,\n",
    "    detectable=detectable,\n",
    "    )\n",
    "print('log BF_{A/B}_det =', log_bfABdet_kde)"
   ]
  },
  {
   "cell_type": "code",
   "execution_count": null,
   "id": "a08e7ed9-e95d-4477-b27e-c85f8cb32947",
   "metadata": {},
   "outputs": [],
   "source": []
  }
 ],
 "metadata": {
  "kernelspec": {
   "display_name": "popodds",
   "language": "python",
   "name": "popodds"
  },
  "language_info": {
   "codemirror_mode": {
    "name": "ipython",
    "version": 3
   },
   "file_extension": ".py",
   "mimetype": "text/x-python",
   "name": "python",
   "nbconvert_exporter": "python",
   "pygments_lexer": "ipython3",
   "version": "3.9.13"
  }
 },
 "nbformat": 4,
 "nbformat_minor": 5
}
